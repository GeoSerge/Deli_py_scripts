{
 "cells": [
  {
   "cell_type": "code",
   "execution_count": 24,
   "metadata": {},
   "outputs": [],
   "source": [
    "import pandas as pd\n",
    "import numpy as np\n",
    "from scipy.stats import ttest_ind\n",
    "from scipy.stats import sem"
   ]
  },
  {
   "cell_type": "code",
   "execution_count": 3,
   "metadata": {},
   "outputs": [],
   "source": [
    "df = pd.read_excel('C:/Users/sgulbin/Work/Scoring (Accidents)/2020-03Test_v2/scoring_test_users_sample_overview.xlsx', sheet_name = 'Data')"
   ]
  },
  {
   "cell_type": "code",
   "execution_count": 29,
   "metadata": {},
   "outputs": [
    {
     "name": "stdout",
     "output_type": "stream",
     "text": [
      "age 31.45970209973485 31.656944273667996 0.19724217393314447\n",
      "exp 11.123783834464454 11.179565265798246 0.05578143133379143\n",
      "period_since_activation 1.1378631250930344 1.079949372083935 -0.0579137530090994\n",
      "COUNT 24.621261022684433 42.15866177640643 17.537400753722\n",
      "avg_cost 320.92810596683495 263.9516022506847 -56.97650371615026\n",
      "avg_ride_time 40.58461968677669 35.663822442830764 -4.920797243945927\n",
      "accidents 0.003934501934557105 0.006876119876061659 0.0029416179415045537\n"
     ]
    }
   ],
   "source": [
    "test = df.loc[df.test_sample == 1]\n",
    "for i in ['age','exp','period_since_activation','COUNT','avg_cost', 'avg_ride_time','accidents']:\n",
    "    print(i, df[i].mean(), test[i].mean(),test[i].mean()-df[i].mean())"
   ]
  },
  {
   "cell_type": "code",
   "execution_count": 28,
   "metadata": {},
   "outputs": [
    {
     "name": "stdout",
     "output_type": "stream",
     "text": [
      "52.94457225178144\n",
      "10.369316295554551\n"
     ]
    }
   ],
   "source": [
    "print(test.age.mean()+2*np.std(test.age))\n",
    "print(test.age.mean()-2*np.std(test.age))"
   ]
  }
 ],
 "metadata": {
  "kernelspec": {
   "display_name": "Python 3",
   "language": "python",
   "name": "python3"
  },
  "language_info": {
   "codemirror_mode": {
    "name": "ipython",
    "version": 3
   },
   "file_extension": ".py",
   "mimetype": "text/x-python",
   "name": "python",
   "nbconvert_exporter": "python",
   "pygments_lexer": "ipython3",
   "version": "3.6.5"
  }
 },
 "nbformat": 4,
 "nbformat_minor": 2
}
