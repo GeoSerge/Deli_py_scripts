{
 "cells": [
  {
   "cell_type": "code",
   "execution_count": 2,
   "metadata": {},
   "outputs": [],
   "source": [
    "import pandas as pd\n",
    "import numpy as np\n",
    "import re\n",
    "import datetime as dt"
   ]
  },
  {
   "cell_type": "code",
   "execution_count": 19,
   "metadata": {},
   "outputs": [],
   "source": [
    "# Adding KBM value to df\n",
    "df = pd.read_csv('C:/Users/sgulbin/Work/Scoring (Accidents)/2020-03Test_v2/FTR_score/users_March.csv')\n",
    "kbm = pd.read_csv('C:/Users/sgulbin/Work/Scoring (Accidents)/2020-03Test_v2/KBM_data/KBM_data_4_13_2020.csv')\n",
    "df = pd.merge(df,kbm,on = 'user_id', how = 'left')\n",
    "df['age'] = np.clip((pd.to_datetime('today')-pd.to_datetime(df.birthday, errors = 'coerce')).astype('timedelta64[Y]'),19.0,80.0)\n",
    "df['exp'] = np.clip((pd.to_datetime('today')-pd.to_datetime(df.license_set_date, errors = 'coerce')).astype('timedelta64[Y]'),1.0,62.0)"
   ]
  },
  {
   "cell_type": "code",
   "execution_count": 20,
   "metadata": {},
   "outputs": [],
   "source": [
    "# Generating synthetic sex\n",
    "df['patronymic_name'] = df['patronymic_name'].fillna('Unknown')\n",
    "df['patronymic_name_end'] = df['patronymic_name'].str.strip().str[-2:]\n",
    "df.loc[df.patronymic_name_end.str.contains('ич'),'sex_synthetic'] = 'M'\n",
    "df.loc[df.patronymic_name_end.str.contains('на'),'sex_synthetic'] = 'F'\n",
    "df.loc[df.patronymic_name_end.str.contains('лы'),'sex_synthetic'] = 'M'\n",
    "df.loc[df.patronymic_name_end.str.contains('зы'),'sex_synthetic'] = 'F'\n",
    "df.loc[df.patronymic_name_end.str.contains('wn'),'sex_synthetic'] = 'Unknown'\n",
    "df['sex_synthetic'] = df['sex_synthetic'].fillna('Unknown')\n",
    "# print(df)"
   ]
  },
  {
   "cell_type": "code",
   "execution_count": 21,
   "metadata": {},
   "outputs": [],
   "source": [
    "# Generating age-exp coefficients\n",
    "K_age_exp_max = 1.2\n",
    "K_age_exp_min = 0.725\n",
    "K_intercept = -4.88430556234637\n",
    "K_f_age = 1.26397937674965\n",
    "K_f_exp = 0.0762464696907463\n",
    "f_age_exp_min = K_f_age*np.log(19)+K_f_exp*np.log(1)+K_intercept\n",
    "f_age_exp_max = K_f_age*np.log(50)+K_f_exp*np.log(20)+K_intercept\n",
    "K = K_age_exp_max-((K_f_age*np.log(19)+K_f_exp*np.log(1)+K_intercept)-f_age_exp_min)*(K_age_exp_max-K_age_exp_min)/(f_age_exp_max-f_age_exp_min)\n",
    "ages = []\n",
    "exps = []\n",
    "koefs = []\n",
    "for age in range(19,101):\n",
    "    for exp in range(1,83):\n",
    "        K = np.clip(K_age_exp_max-((K_f_age*np.log(age)+K_f_exp*np.log(exp)+K_intercept)-f_age_exp_min)*(K_age_exp_max-K_age_exp_min)/(f_age_exp_max-f_age_exp_min),K_age_exp_min,K_age_exp_max)\n",
    "        ages.append(age)\n",
    "        exps.append(exp)\n",
    "        koefs.append(K)\n",
    "age_exp_df = pd.DataFrame(data = ({'age':ages, 'exp':exps, 'K_age_exp': koefs}))\n",
    "# print(age_exp_df)"
   ]
  },
  {
   "cell_type": "code",
   "execution_count": 22,
   "metadata": {},
   "outputs": [
    {
     "name": "stdout",
     "output_type": "stream",
     "text": [
      "           user_id  K_KBM_model_score\n",
      "0       1055251350           1.090414\n",
      "1        795251628           0.871072\n",
      "2         20509940           0.965171\n",
      "3         19758603           0.714272\n",
      "4         20878816           0.757266\n",
      "5         20991334           0.799729\n",
      "6         21259762           0.987710\n",
      "7         55750352           1.058045\n",
      "8         20749780           0.725286\n",
      "9         21129863           0.700000\n",
      "10       142751687           0.766965\n",
      "11        20086426           0.876807\n",
      "12        20042683           1.045000\n",
      "13        20832888           0.839374\n",
      "14        19651525           1.185910\n",
      "15        19613964           0.703639\n",
      "16       129500795           0.703197\n",
      "17       420501817           1.161486\n",
      "18        20840338           1.175543\n",
      "19       439000681           0.930601\n",
      "20      1078000813           1.157728\n",
      "21        20061163           0.984771\n",
      "22        20061181           0.837138\n",
      "23       922001101           1.006086\n",
      "24        21287187           1.196331\n",
      "25       619500123           1.185910\n",
      "26        91251452           0.912701\n",
      "27       223500197           1.199919\n",
      "28        21540729           1.043181\n",
      "29        19813368           0.721765\n",
      "...            ...                ...\n",
      "414789   795001358           0.863517\n",
      "414790   571751775           0.804089\n",
      "414791    20105181           0.977525\n",
      "414792   274750255           1.075277\n",
      "414793    20236631           0.876359\n",
      "414794    19959015           0.908420\n",
      "414795    35000984           1.052971\n",
      "414796    20071084           0.876596\n",
      "414797    20015851           0.858856\n",
      "414798    20900706           1.151369\n",
      "414799   142751765           1.083442\n",
      "414800   859750027           1.073021\n",
      "414801    19575111           1.030000\n",
      "414802    20117462           0.989828\n",
      "414803    20530432           1.185910\n",
      "414804   713750127           1.219421\n",
      "414805   335000061           1.009932\n",
      "414806    20532283           1.014314\n",
      "414807    20570774           0.931181\n",
      "414808   419250201           1.058654\n",
      "414809   857000341           0.700000\n",
      "414810    19962338           0.999363\n",
      "414811    19554445           0.885850\n",
      "414812    20378378           0.746750\n",
      "414813    19727559           0.944310\n",
      "414814    20265367           1.173404\n",
      "414815    20323702           1.031650\n",
      "414816    20773107           1.005006\n",
      "414817    20166824           0.964655\n",
      "414818    19870561           0.905922\n",
      "\n",
      "[414819 rows x 2 columns]\n"
     ]
    }
   ],
   "source": [
    "# Adding coefficients to df\n",
    "df_K_sex = pd.DataFrame(data = ({'sex': ['M', 'F', 'Unknown'], 'K_sex': [1.0,1.10,1.0]}))\n",
    "df_K_KBM = pd.DataFrame(data = ({'KBM': [0.5,0.55,0.6,0.65,0.7,0.75,0.8,0.85,0.9,0.95,1.0,1.4,1.55,2.3,2.45,np.nan],\n",
    "                                 'K_KBM': [0.9,0.9,0.9,0.9,0.9,0.9,0.95,0.95,1.0,1.0,1.03,1.1,1.1,1.1,1.1,1.03]}))\n",
    "df = pd.merge(df, df_K_sex, how = 'left', left_on = 'sex_synthetic', right_on = 'sex')\n",
    "df = pd.merge(df, df_K_KBM, how = 'left', left_on = 'KBM', right_on = 'KBM')\n",
    "df = pd.merge(df, age_exp_df, how = 'left', left_on = ['age','exp'], right_on = ['age','exp'])\n",
    "df['K_age_exp'] = np.where(df['age'].isnull(), 1.0, np.where(df['exp'].isnull(),1.0,np.where((df['age']-df['exp'])<16,1.0,df['K_age_exp'])))\n",
    "df['K_age_exp'] = df['K_age_exp'].fillna(1.0)\n",
    "df['K_KBM'] = df['K_KBM'].fillna(1.0)\n",
    "\n",
    "df['age-exp'] = df['age']-df['exp']\n",
    "df['K_KBM_model_score'] = np.clip(df.K_sex*df.K_KBM*df.K_age_exp,0.7,1.3)\n",
    "df['K_KBM_model_score_normalized'] = 100*(df['K_KBM_model_score']-df['K_KBM_model_score'].max())/(df['K_KBM_model_score'].min()-df['K_KBM_model_score'].max())\n",
    "df['K_KBM_model_score_normalized'] = df['K_KBM_model_score_normalized'].round(0)\n",
    "df_output = df[['user_id', 'K_KBM_model_score']]\n",
    "print(df_output)"
   ]
  },
  {
   "cell_type": "code",
   "execution_count": 24,
   "metadata": {},
   "outputs": [],
   "source": [
    "# df.to_csv('C:/Users/sgulbin/Work/Scoring (Accidents)/2020-03Test_v2/KBM_model_norm-ed_val.csv')\n",
    "df_output.to_csv('C:/Users/sgulbin/Work/Scoring (Accidents)/2020-03Test_v2/FTR_score/FTR_score_for_March_users.csv')"
   ]
  },
  {
   "cell_type": "code",
   "execution_count": 23,
   "metadata": {},
   "outputs": [
    {
     "name": "stdout",
     "output_type": "stream",
     "text": [
      "0.9669864030133709\n"
     ]
    }
   ],
   "source": [
    "test_age_exp = age_exp_df.loc[(age_exp_df.age == 28)&(age_exp_df.exp == 8)]\n",
    "test_score = df.loc[(df.age == 28.0)&(df.exp == 8.0)&(df.K_sex == 1.0)&(df.K_KBM == 1.0)]\n",
    "# print(test_score)\n",
    "print(df.K_KBM_model_score.mean())"
   ]
  }
 ],
 "metadata": {
  "kernelspec": {
   "display_name": "Python 3",
   "language": "python",
   "name": "python3"
  },
  "language_info": {
   "codemirror_mode": {
    "name": "ipython",
    "version": 3
   },
   "file_extension": ".py",
   "mimetype": "text/x-python",
   "name": "python",
   "nbconvert_exporter": "python",
   "pygments_lexer": "ipython3",
   "version": "3.6.5"
  }
 },
 "nbformat": 4,
 "nbformat_minor": 2
}
