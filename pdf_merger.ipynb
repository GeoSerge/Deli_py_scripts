{
 "cells": [
  {
   "cell_type": "code",
   "execution_count": 4,
   "metadata": {},
   "outputs": [],
   "source": [
    "from PyPDF2 import PdfFileMerger\n",
    "import pandas as pd\n",
    "\n",
    "lib = pd.read_csv('D:/legend.csv')\n",
    "\n",
    "for ind in range(len(lib.index)):\n",
    "    pdfs = []\n",
    "    for i in range(lib.iloc[ind]['from'],lib.iloc[ind]['to']+1):\n",
    "        pdfs.append('D:/HPSCANS/сканирование'+'0'*(4-len(str(i)))+str(i)+'.pdf')\n",
    "    merger = PdfFileMerger()\n",
    "    for pdf in pdfs:\n",
    "        merger.append(pdf)\n",
    "    merger.write('D:/HPSCANS/'+str(lib.iloc[ind]['name'])+'.pdf')\n",
    "    merger.close()"
   ]
  },
  {
   "cell_type": "code",
   "execution_count": 4,
   "metadata": {},
   "outputs": [],
   "source": [
    "from PyPDF2 import PdfFileMerger\n",
    "import pandas as pd\n",
    "import os.path\n",
    "\n",
    "# for fldr in os.listdir('D:/pdfs_to_merge_v7/'):\n",
    "#     pdfs = []\n",
    "#     for file in os.listdir('D:/HPSCANS/'+fldr):\n",
    "#         pdfs.append('D:/HPSCANS/'+fldr+'/'+os.path.split(file)[1])\n",
    "#     merger = PdfFileMerger()\n",
    "#     for pdf in pdfs:\n",
    "#         merger.append(pdf)\n",
    "#     merger.write('D:/pdfs_to_merge_v7/'+fldr+'/final.pdf')\n",
    "#     merger.close()\n",
    "\n",
    "\n",
    "pdfs = ['D:/pdfs_to_merge_v7/5/1.pdf',\n",
    "        'D:/pdfs_to_merge_v7/5/2.pdf',\n",
    "       'D:/pdfs_to_merge_v7/5/3.pdf',\n",
    "       'D:/pdfs_to_merge_v7/5/4.pdf',\n",
    "       'D:/pdfs_to_merge_v7/5/5.pdf',\n",
    "       'D:/pdfs_to_merge_v7/5/6.pdf',\n",
    "       'D:/pdfs_to_merge_v7/5/7.pdf',\n",
    "       'D:/pdfs_to_merge_v7/5/8.pdf',\n",
    "       'D:/pdfs_to_merge_v7/5/9.pdf',\n",
    "       'D:/pdfs_to_merge_v7/5/10.pdf']\n",
    "merger = PdfFileMerger()\n",
    "for pdf in pdfs:\n",
    "    merger.append(pdf)\n",
    "merger.write('D:/pdfs_to_merge_v7/final.pdf')\n",
    "merger.close()"
   ]
  }
 ],
 "metadata": {
  "kernelspec": {
   "display_name": "Python 3",
   "language": "python",
   "name": "python3"
  },
  "language_info": {
   "codemirror_mode": {
    "name": "ipython",
    "version": 3
   },
   "file_extension": ".py",
   "mimetype": "text/x-python",
   "name": "python",
   "nbconvert_exporter": "python",
   "pygments_lexer": "ipython3",
   "version": "3.6.10"
  }
 },
 "nbformat": 4,
 "nbformat_minor": 4
}
