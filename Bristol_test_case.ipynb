{
 "cells": [
  {
   "cell_type": "code",
   "execution_count": 20,
   "id": "needed-baseball",
   "metadata": {},
   "outputs": [
    {
     "name": "stdout",
     "output_type": "stream",
     "text": [
      "[1, 2, 2, 4, 8, 32, 256, 8192, 2097152, 17179869184] series collection is finished\n"
     ]
    }
   ],
   "source": [
    "def multiplication(lst, n):\n",
    "    if len(lst) < n:\n",
    "        _next = lst[-2]*lst[-1]\n",
    "        lst = lst + [_next]\n",
    "        multiplication(lst, n)\n",
    "    else:\n",
    "        print(lst, 'series collection is finished')\n",
    "multiplication([1, 2], 10)"
   ]
  },
  {
   "cell_type": "code",
   "execution_count": 14,
   "id": "heavy-freight",
   "metadata": {},
   "outputs": [],
   "source": [
    "series = [1, 2]\n",
    "if len([1, 2]) < 10:\n",
    "    _next = series[-2]*series[-1]\n",
    "    series = series.append(_next)\n",
    "else:\n",
    "    print(series, 'series collection is finished')"
   ]
  },
  {
   "cell_type": "code",
   "execution_count": 12,
   "id": "derived-convention",
   "metadata": {},
   "outputs": [
    {
     "name": "stdout",
     "output_type": "stream",
     "text": [
      "2\n"
     ]
    }
   ],
   "source": [
    "series = [1, 2]\n",
    "print(len(series))"
   ]
  }
 ],
 "metadata": {
  "kernelspec": {
   "display_name": "Python 3",
   "language": "python",
   "name": "python3"
  },
  "language_info": {
   "codemirror_mode": {
    "name": "ipython",
    "version": 3
   },
   "file_extension": ".py",
   "mimetype": "text/x-python",
   "name": "python",
   "nbconvert_exporter": "python",
   "pygments_lexer": "ipython3",
   "version": "3.7.10"
  }
 },
 "nbformat": 4,
 "nbformat_minor": 5
}
