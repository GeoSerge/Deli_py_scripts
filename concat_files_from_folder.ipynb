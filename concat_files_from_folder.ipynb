{
 "cells": [
  {
   "cell_type": "code",
   "execution_count": 2,
   "metadata": {},
   "outputs": [],
   "source": [
    "import pandas as pd\n",
    "import numpy as np\n",
    "import glob"
   ]
  },
  {
   "cell_type": "code",
   "execution_count": 3,
   "metadata": {},
   "outputs": [],
   "source": [
    "path  = r'C:/Users/sgulbin/Work/_Ad-hoc_analysis/weekly_accidents_by_scoring_analysis/original_data_v2'\n",
    "all_files = glob.glob(path + '/*.xlsx')\n",
    "\n",
    "li = []\n",
    "\n",
    "for filename in all_files:\n",
    "    df = pd.read_excel(filename, index_col=None, sheet_name = 0, header=0)\n",
    "    li.append(df)\n",
    "\n",
    "frame = pd.concat(li, axis=0, ignore_index=True)\n",
    "frame['dt_rent_id'] = frame['dt_link'].str[-14:].str[:8]\n",
    "frame.to_csv('C:/Users/sgulbin/Work/_Ad-hoc_analysis/weekly_accidents_by_scoring_analysis/dtp_2020-07-16_2020-08-03.csv',\\\n",
    "             index = False)"
   ]
  },
  {
   "cell_type": "code",
   "execution_count": 7,
   "metadata": {},
   "outputs": [],
   "source": [
    "df1 = pd.read_csv('C:/Users/sgulbin/Work/_Ad-hoc_analysis/weekly_accidents_by_scoring_analysis/dtp_2020-06-09_2020-07-15.csv')\n",
    "df2 = pd.read_csv('C:/Users/sgulbin/Work/_Ad-hoc_analysis/weekly_accidents_by_scoring_analysis/dtp_2020-07-16_2020-08-03.csv')\n",
    "df = pd.concat([df1,df2], axis=0, ignore_index=True)\n",
    "df.to_csv('C:/Users/sgulbin/Work/_Ad-hoc_analysis/weekly_accidents_by_scoring_analysis/dtp_2020-06-09_2020-08-03.csv')"
   ]
  }
 ],
 "metadata": {
  "kernelspec": {
   "display_name": "Python 3",
   "language": "python",
   "name": "python3"
  },
  "language_info": {
   "codemirror_mode": {
    "name": "ipython",
    "version": 3
   },
   "file_extension": ".py",
   "mimetype": "text/x-python",
   "name": "python",
   "nbconvert_exporter": "python",
   "pygments_lexer": "ipython3",
   "version": "3.6.10"
  }
 },
 "nbformat": 4,
 "nbformat_minor": 4
}
