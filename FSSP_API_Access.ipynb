{
 "cells": [
  {
   "cell_type": "code",
   "execution_count": 109,
   "metadata": {},
   "outputs": [],
   "source": [
    "import pandas as pd\n",
    "import datetime\n",
    "\n",
    "df = pd.read_csv('C:/Users/sgulbin/Work/_Выгрузки_и_Расчеты/65_angry_drivers.csv')\n",
    "firstnames = []\n",
    "patrnames = []\n",
    "lastnames = []\n",
    "birthdays = []\n",
    "ips = []\n",
    "for i in df.first_name:\n",
    "    firstnames.append(i)\n",
    "for i in df.patronymic_name:\n",
    "    patrnames.append(i)\n",
    "for i in df.last_name:\n",
    "    lastnames.append(i)\n",
    "for i in df.birthday_ru:\n",
    "    birthdays.append(i)\n",
    "for i in df.IP_Region:\n",
    "    ips.append(i)"
   ]
  },
  {
   "cell_type": "code",
   "execution_count": 199,
   "metadata": {},
   "outputs": [
    {
     "name": "stdout",
     "output_type": "stream",
     "text": [
      "{'status': 'success', 'code': 0, 'exception': '', 'response': {'task': '44e1521e-4ded-4ec1-8663-e59d7d7623c8'}}\n",
      "{'status': 'success', 'code': 0, 'exception': '', 'response': {'status': 2, 'progress': '0 of 1'}}\n",
      "{'status': 'success', 'code': 0, 'exception': '', 'response': {'status': 2, 'task_start': '2021-01-21 10:44:36', 'task_end': None, 'result': [{'status': 2, 'query': {'type': 1, 'params': {'region': '5', 'firstname': 'АКИМ', 'secondname': 'АБДУЛЛАХОВИЧ', 'lastname': 'АЛЛАХВЕРДИЕВ'}}, 'result': None}]}}\n"
     ]
    }
   ],
   "source": [
    "import requests\n",
    "\n",
    "token = 'qc0RAgfCYb4k'\n",
    "url = 'https://api-ip.fssp.gov.ru/api/v1.0/'\n",
    "\n",
    "results = []\n",
    "\n",
    "# for ip in range(1,78):\n",
    "#     for i in range(len(firstnames)):\n",
    "response = requests.get(url+'search/physical',\n",
    "                        params = {\n",
    "                            'token':token,\n",
    "                            'region': 5,#ips[ip],\n",
    "                            'firstname': 'АКИМ',#firstnames[i],\n",
    "                            'secondname': 'АБДУЛЛАХОВИЧ',#patrnames[i],\n",
    "                            'lastname': 'АЛЛАХВЕРДИЕВ'#lastnames[i],\n",
    "#                             'birthdate': #birthdays[i]\n",
    "})\n",
    "\n",
    "print(response.json())\n",
    "\n",
    "data = response.json()\n",
    "data_resp = data['response']\n",
    "\n",
    "status = requests.get(url+'status',\n",
    "                         params = {\n",
    "                             'token': token,\n",
    "                             'task': data_resp['task']\n",
    "                         })\n",
    "print(status.json())\n",
    "\n",
    "result = requests.get(url+'result',\n",
    "                         params = {\n",
    "                             'token': token,\n",
    "                             'task': data_resp['task']\n",
    "                         })\n",
    "print(result.json())\n",
    "# print(result.json()['response']['result'][0]['result'])\n",
    "# results.append([i,ip,result.json()['response']['result'][0]['result']])"
   ]
  },
  {
   "cell_type": "code",
   "execution_count": 1,
   "metadata": {},
   "outputs": [
    {
     "ename": "AttributeError",
     "evalue": "__enter__",
     "output_type": "error",
     "traceback": [
      "\u001b[1;31m---------------------------------------------------------------------------\u001b[0m",
      "\u001b[1;31mAttributeError\u001b[0m                            Traceback (most recent call last)",
      "\u001b[1;32m<ipython-input-1-2380f7f254ab>\u001b[0m in \u001b[0;36m<module>\u001b[1;34m\u001b[0m\n\u001b[0;32m      3\u001b[0m \u001b[0msecret\u001b[0m \u001b[1;33m=\u001b[0m \u001b[1;34m'd3af774a568af525e68538d10a270f1d4cdf75ff'\u001b[0m\u001b[1;33m\u001b[0m\u001b[1;33m\u001b[0m\u001b[0m\n\u001b[0;32m      4\u001b[0m \u001b[1;33m\u001b[0m\u001b[0m\n\u001b[1;32m----> 5\u001b[1;33m \u001b[1;32mwith\u001b[0m \u001b[0mDadata\u001b[0m\u001b[1;33m(\u001b[0m\u001b[0mtoken\u001b[0m\u001b[1;33m,\u001b[0m \u001b[0msecret\u001b[0m\u001b[1;33m)\u001b[0m \u001b[1;32mas\u001b[0m \u001b[0mdadata\u001b[0m\u001b[1;33m:\u001b[0m\u001b[1;33m\u001b[0m\u001b[1;33m\u001b[0m\u001b[0m\n\u001b[0m\u001b[0;32m      6\u001b[0m     \u001b[0mresult\u001b[0m \u001b[1;33m=\u001b[0m \u001b[0mdadata\u001b[0m\u001b[1;33m.\u001b[0m\u001b[0mclean\u001b[0m\u001b[1;33m(\u001b[0m\u001b[1;34m\"address\"\u001b[0m\u001b[1;33m,\u001b[0m \u001b[1;34m\"мск сухонска 11/-89\"\u001b[0m\u001b[1;33m)\u001b[0m\u001b[1;33m\u001b[0m\u001b[1;33m\u001b[0m\u001b[0m\n\u001b[0;32m      7\u001b[0m     \u001b[0mprint\u001b[0m\u001b[1;33m(\u001b[0m\u001b[0mresult\u001b[0m\u001b[1;33m.\u001b[0m\u001b[0mjson\u001b[0m\u001b[1;33m(\u001b[0m\u001b[1;33m)\u001b[0m\u001b[1;33m)\u001b[0m\u001b[1;33m\u001b[0m\u001b[1;33m\u001b[0m\u001b[0m\n",
      "\u001b[1;31mAttributeError\u001b[0m: __enter__"
     ]
    }
   ],
   "source": [
    "from dadata import Dadata\n",
    "token = '58a20ed119e17de981791b80fc77d35892ba76c0'\n",
    "secret = 'd3af774a568af525e68538d10a270f1d4cdf75ff'\n",
    "\n",
    "with Dadata(token, secret) as dadata:\n",
    "    result = dadata.clean(\"address\", \"мск сухонска 11/-89\")\n",
    "    print(result.json())"
   ]
  },
  {
   "cell_type": "code",
   "execution_count": 4,
   "metadata": {},
   "outputs": [
    {
     "name": "stdout",
     "output_type": "stream",
     "text": [
      "Requirement already satisfied: dadata in c:\\programdata\\anaconda3\\lib\\site-packages (0.3.0)\n",
      "Requirement already satisfied: requests in c:\\programdata\\anaconda3\\lib\\site-packages (from dadata) (2.23.0)\n",
      "Requirement already satisfied: idna<3,>=2.5 in c:\\programdata\\anaconda3\\lib\\site-packages (from requests->dadata) (2.9)\n",
      "Requirement already satisfied: chardet<4,>=3.0.2 in c:\\programdata\\anaconda3\\lib\\site-packages (from requests->dadata) (3.0.4)\n",
      "Requirement already satisfied: urllib3!=1.25.0,!=1.25.1,<1.26,>=1.21.1 in c:\\programdata\\anaconda3\\lib\\site-packages (from requests->dadata) (1.25.8)\n",
      "Requirement already satisfied: certifi>=2017.4.17 in c:\\programdata\\anaconda3\\lib\\site-packages (from requests->dadata) (2020.4.5.1)\n",
      "Note: you may need to restart the kernel to use updated packages.\n"
     ]
    }
   ],
   "source": [
    "pip install dadata"
   ]
  },
  {
   "cell_type": "code",
   "execution_count": 5,
   "metadata": {},
   "outputs": [
    {
     "name": "stdout",
     "output_type": "stream",
     "text": [
      "C:\\ProgramData\\Anaconda3\\python.exe\n",
      "3.6.10 |Anaconda, Inc.| (default, Mar 23 2020, 17:58:33) [MSC v.1916 64 bit (AMD64)]\n",
      "sys.version_info(major=3, minor=6, micro=10, releaselevel='final', serial=0)\n"
     ]
    }
   ],
   "source": [
    "import sys\n",
    "print(sys.executable)\n",
    "print(sys.version)\n",
    "print(sys.version_info)"
   ]
  },
  {
   "cell_type": "code",
   "execution_count": 6,
   "metadata": {
    "scrolled": true
   },
   "outputs": [
    {
     "name": "stdout",
     "output_type": "stream",
     "text": [
      "0.3.0\n",
      "['C:\\\\ProgramData\\\\Anaconda3\\\\lib\\\\site-packages\\\\dadata']\n"
     ]
    }
   ],
   "source": [
    "import dadata\n",
    "print(dadata.__version__)\n",
    "print(dadata.__path__)"
   ]
  },
  {
   "cell_type": "code",
   "execution_count": 202,
   "metadata": {},
   "outputs": [
    {
     "name": "stdout",
     "output_type": "stream",
     "text": [
      "Рязань, Рязанская область, Центральный федеральный округ, Россия\n"
     ]
    }
   ],
   "source": [
    "from functools import partial\n",
    "from geopy.geocoders import Nominatim\n",
    "# from geopy.geocoders import Yandex\n",
    "\n",
    "geolocator = Nominatim(user_agent=\"sgulbin\")\n",
    "# geolocator = Yandex(api_key = '', user_agent = 'geopy/2.1.0')\n",
    "\n",
    "geocode = partial(geolocator.geocode, language=\"ru\")\n",
    "print(geocode(\"РЯЗАНСКАЯ ОБЛасть РЯЗАНЬ\"))\n",
    "\n",
    "# reverse = partial(geolocator.reverse, language=\"es\")\n",
    "# print(reverse(\"52.509669, 13.376294\"))"
   ]
  },
  {
   "cell_type": "code",
   "execution_count": null,
   "metadata": {},
   "outputs": [],
   "source": [
    "import requests\n",
    "\n",
    "token = 'qc0RAgfCYb4k'\n",
    "url = 'https://apirosreestr.ru/api/'\n",
    "cadnomer = '46:29:101001:10'\n",
    "mydoc = 'XZP'\n",
    "\n",
    "response = requests.get(url,)"
   ]
  }
 ],
 "metadata": {
  "kernelspec": {
   "display_name": "Python 3",
   "language": "python",
   "name": "python3"
  },
  "language_info": {
   "codemirror_mode": {
    "name": "ipython",
    "version": 3
   },
   "file_extension": ".py",
   "mimetype": "text/x-python",
   "name": "python",
   "nbconvert_exporter": "python",
   "pygments_lexer": "ipython3",
   "version": "3.7.10"
  }
 },
 "nbformat": 4,
 "nbformat_minor": 4
}
