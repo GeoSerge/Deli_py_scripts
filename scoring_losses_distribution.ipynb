{
 "cells": [
  {
   "cell_type": "code",
   "execution_count": 1,
   "metadata": {},
   "outputs": [],
   "source": [
    "import pandas as pd\n",
    "import numpy as np\n",
    "import re\n",
    "import datetime as dt\n",
    "import seaborn as sns\n",
    "import matplotlib.pyplot as plt"
   ]
  },
  {
   "cell_type": "code",
   "execution_count": 20,
   "metadata": {},
   "outputs": [],
   "source": [
    "# Adding KBM value to df\n",
    "users = pd.read_csv('C:/Users/sgulbin/Work/Analysis/DataQualityAnalysis/original_data/users_activated_v6.csv', low_memory = False)\n",
    "users = users[['user_id', 'login', 'sex', 'birthday', 'license_set_date']]\n",
    "kbm = pd.read_csv('C:/Users/sgulbin/Work/Scoring (Accidents)/2020-03Test_v2/KBM_data/KBM_data_4_13_2020.csv')\n",
    "kirill = pd.read_csv('C:/Users/sgulbin/Work/Analysis/Kirill/otpusk/new_coefs.csv', delimiter = ';')\n",
    "df = pd.merge(pd.merge(kirill,users,on = 'user_id', how = 'left'), kbm, on = 'user_id', how = 'left')\n",
    "df['age'] = np.clip((pd.to_datetime('today')-pd.to_datetime(df.birthday, errors = 'coerce')).astype('timedelta64[Y]'),19.0,80.0)\n",
    "df['exp'] = np.clip((pd.to_datetime('today')-pd.to_datetime(df.license_set_date, errors = 'coerce')).astype('timedelta64[Y]'),1.0,62.0)\n",
    "df['sex'] = df['sex'].fillna('Unknown')"
   ]
  },
  {
   "cell_type": "code",
   "execution_count": 21,
   "metadata": {},
   "outputs": [],
   "source": [
    "# Generating age-exp coefficients\n",
    "K_age_exp_max = 1.2\n",
    "K_age_exp_min = 0.725\n",
    "K_intercept = -4.88430556234637\n",
    "K_f_age = 1.26397937674965\n",
    "K_f_exp = 0.0762464696907463\n",
    "f_age_exp_min = K_f_age*np.log(19)+K_f_exp*np.log(1)+K_intercept\n",
    "f_age_exp_max = K_f_age*np.log(50)+K_f_exp*np.log(20)+K_intercept\n",
    "K = K_age_exp_max-((K_f_age*np.log(19)+K_f_exp*np.log(1)+K_intercept)-f_age_exp_min)*(K_age_exp_max-K_age_exp_min)/(f_age_exp_max-f_age_exp_min)\n",
    "ages = []\n",
    "exps = []\n",
    "koefs = []\n",
    "for age in range(19,101):\n",
    "    for exp in range(1,83):\n",
    "        K = np.clip(K_age_exp_max-((K_f_age*np.log(age)+K_f_exp*np.log(exp)+K_intercept)-f_age_exp_min)*(K_age_exp_max-K_age_exp_min)/(f_age_exp_max-f_age_exp_min),K_age_exp_min,K_age_exp_max)\n",
    "        ages.append(age)\n",
    "        exps.append(exp)\n",
    "        koefs.append(K)\n",
    "age_exp_df = pd.DataFrame(data = ({'age':ages, 'exp':exps, 'K_age_exp': koefs}))\n",
    "# print(age_exp_df)"
   ]
  },
  {
   "cell_type": "code",
   "execution_count": 22,
   "metadata": {},
   "outputs": [],
   "source": [
    "# Adding coefficients to df\n",
    "df_K_sex = pd.DataFrame(data = ({'sex': ['М', 'Ж', 'Unknown'], 'K_sex': [1.0,1.10,1.0]}))\n",
    "df_K_KBM = pd.DataFrame(data = ({'KBM': [0.5,0.55,0.6,0.65,0.7,0.75,0.8,0.85,0.9,0.95,1.0,1.4,1.55,2.3,2.45,np.nan],\n",
    "                                 'K_KBM': [0.9,0.9,0.9,0.9,0.9,0.9,0.95,0.95,1.0,1.0,1.03,1.1,1.1,1.1,1.1,1.03]}))\n",
    "df = pd.merge(df, df_K_sex, how = 'left', left_on = 'sex', right_on = 'sex')\n",
    "df = pd.merge(df, df_K_KBM, how = 'left', left_on = 'KBM', right_on = 'KBM')\n",
    "df = pd.merge(df, age_exp_df, how = 'left', left_on = ['age','exp'], right_on = ['age','exp'])\n",
    "df['K_age_exp'] = np.where(df['age'].isnull(), 1.0, np.where(df['exp'].isnull(),1.0,np.where((df['age']-df['exp'])<16,1.0,df['K_age_exp'])))\n",
    "df['K_age_exp'] = df['K_age_exp'].fillna(1.0)\n",
    "df['K_KBM'] = df['K_KBM'].fillna(1.0)\n",
    "\n",
    "df['K_KBM_model_score'] = np.clip(df.K_sex*df.K_KBM*df.K_age_exp,0.7,1.3)\n",
    "df['K_KBM_model_score_normalized'] = 100*(df['K_KBM_model_score']-df['K_KBM_model_score'].max())/(df['K_KBM_model_score'].min()-df['K_KBM_model_score'].max())\n",
    "df['K_KBM_model_score_normalized'] = df['K_KBM_model_score_normalized'].round(0)\n",
    "df['K_delimobil_score_normalized'] = 100*(df['K_scoring']-df['K_scoring'].max())/(df['K_scoring'].min()-df['K_scoring'].max())\n",
    "df['K_delimobil_score_normalized'] = df['K_delimobil_score_normalized'].round(0)\n",
    "df['K_final_score'] = (df['K_KBM_model_score_normalized']*0.2+df['K_delimobil_score_normalized']*0.8).round(0)"
   ]
  },
  {
   "cell_type": "code",
   "execution_count": 5,
   "metadata": {},
   "outputs": [],
   "source": [
    "dtp = pd.read_excel('C:/Users/sgulbin/Work/_Выгрузки_и_Расчеты/accidents_4_10_2020.xlsx')\n",
    "dtp['Дата и время ДТП'] = np.where(\n",
    "    dtp['Дата и время ДТП']=='4/18/2020 12:00:00 AM', '3/18/2020 12:00:00 AM', dtp['Дата и время ДТП']\n",
    ")\n",
    "dtp['Дата и время ДТП'] = np.where(\n",
    "    dtp['Дата и время ДТП']=='4/20/2020 12:00:00 AM', '3/20/2020 12:00:00 AM', dtp['Дата и время ДТП']\n",
    ")\n",
    "dtp['Дата и время ДТП'] = np.where(\n",
    "    dtp['Дата и время ДТП']=='5/24/2020 12:00:00 AM', '3/24/2020 12:00:00 AM', dtp['Дата и время ДТП']\n",
    ")\n",
    "dtp['Дата и время ДТП'] = np.where(\n",
    "    dtp['Дата и время ДТП']=='7/23/2020 12:00:00 AM', '3/23/2020 12:00:00 AM', dtp['Дата и время ДТП']\n",
    ")\n",
    "dtp['Дата и время ДТП'] = pd.to_datetime(dtp['Дата и время ДТП'], dayfirst=False, errors = 'coerce')\n",
    "dtp.sort_values('Дата и время ДТП', inplace=True)\n",
    "dtp['Дата и время ДТП'] = pd.to_datetime(dtp['Дата и время ДТП'])\n",
    "dtp = dtp[dtp['Телефон водителя'].notnull()]\n",
    "dtp['Телефон водителя'] = dtp['Телефон водителя'].apply(int)\n",
    "dtp = dtp[dtp['ТС'].notnull()]\n",
    "dtp.reset_index(drop=True, inplace = True)\n",
    "dtp['ТС'] = dtp['ТС'].str.replace(' ', '')\n",
    "dtp = dtp[['Дата и время ДТП', 'Регион','Телефон водителя', 'Виновность', 'ТС', 'Модель автомобиля', 'POOL', 'Тариф','Ремонт не производился','Тип ДТП', 'Вид страхования', 'Пострадавшие','Сумма по заказ-наряду','Выставлено', 'Страховая компания сумма выплаченная']].rename(columns={\n",
    "    'Дата и время ДТП': 'dt',\n",
    "    'Регион': 'region',\n",
    "    'Телефон водителя': 'phone',\n",
    "    'Виновность': 'Responsibility',\n",
    "    'ТС': 'license_plate',\n",
    "    'Модель автомобиля': 'vehicle_model',\n",
    "    'POOL': 'pool',\n",
    "    'Тариф': 'tariff',\n",
    "    'Ремонт не производился': 'no repair conducted',\n",
    "    'тип ДТП': 'accident type',\n",
    "    'Вид страхования': 'insurance type',\n",
    "    'Пострадавшие': 'injured',\n",
    "    'Сумма по заказ-наряду': 'target_amount',\n",
    "    'Выставлено': 'Vystavleno',\n",
    "    'Страховая компания сумма выплаченная': 'insurance paid sum'\n",
    "})"
   ]
  },
  {
   "cell_type": "code",
   "execution_count": 6,
   "metadata": {},
   "outputs": [],
   "source": [
    "dtp19 = dtp.loc[dtp.dt < dt.datetime.strptime('2020-01-01 00:00:00', '%Y-%m-%d %H:%M:%S')]\n",
    "dtp_notnull = dtp19[pd.notnull(dtp19['target_amount'])]\n",
    "grpd = dtp_notnull.groupby('vehicle_model').mean()\n",
    "grpd = grpd[['target_amount']]\n",
    "grpd.columns = ['mean_loss']\n",
    "dtp19 = pd.merge(dtp19, grpd, on = 'vehicle_model', how = 'left')\n",
    "dtp19['modeled_loss'] = dtp19['target_amount'].fillna(dtp19['mean_loss'])\n",
    "repairs = dtp19.groupby('phone').sum()"
   ]
  },
  {
   "cell_type": "code",
   "execution_count": 23,
   "metadata": {},
   "outputs": [
    {
     "name": "stderr",
     "output_type": "stream",
     "text": [
      "C:\\ProgramData\\Anaconda3\\lib\\site-packages\\IPython\\core\\interactiveshell.py:2963: FutureWarning: 'login' is both an index level and a column label.\n",
      "Defaulting to column, but this will raise an ambiguity error in a future version\n",
      "  exec(code_obj, self.user_global_ns, self.user_ns)\n"
     ]
    }
   ],
   "source": [
    "df['login'] = df['login'].astype(str).str[:11].astype('int64')\n",
    "df.index = df.login\n",
    "repairs['login'] = repairs.index\n",
    "df = pd.merge(df, repairs, on = 'login', how = 'left')"
   ]
  },
  {
   "cell_type": "code",
   "execution_count": 24,
   "metadata": {},
   "outputs": [],
   "source": [
    "rnt_sum = pd.read_csv('C:/Users/sgulbin/Work/_Выгрузки_и_Расчеты/users_rents_sum_v3.csv', engine = 'python')\n",
    "df = pd.merge(df, rnt_sum, on = 'user_id', how = 'left')\n",
    "df['modeled_loss'] = df['modeled_loss'].fillna(0)\n",
    "df['ride_time'] = df['ride_time'].fillna(0)\n",
    "grpd = df.groupby('K_final_score').sum()\n",
    "# grpd.to_csv('C:/Users/sgulbin/Work/_Выгрузки_и_Расчеты/losses_distribution_v2.csv')\n"
   ]
  },
  {
   "cell_type": "code",
   "execution_count": 12,
   "metadata": {},
   "outputs": [
    {
     "name": "stdout",
     "output_type": "stream",
     "text": [
      "                    user_id  K_final_score  target_amount  modeled_loss  \\\n",
      "score_range                                                               \n",
      "0-10           711965565743        11970.0   2.140807e+06  2.693713e+06   \n",
      "11-20         2272396424984       249085.0   9.564062e+06  1.343600e+07   \n",
      "21-30         7862587122106      1477182.0   1.154212e+08  1.578798e+08   \n",
      "31-40         9987267233557      3134361.0   1.385179e+08  2.073744e+08   \n",
      "41-50        19839454493280      8468619.0   7.014563e+07  1.195580e+08   \n",
      "51-60        12129898634718      6467951.0   2.698009e+07  4.986997e+07   \n",
      "61-70        14408247331817      8317800.0   8.980211e+06  1.967244e+07   \n",
      "71-80         3966576496976      3384968.0   3.349326e+06  7.719773e+06   \n",
      "81-90         3452709785973      2665289.0   3.660398e+06  6.322587e+06   \n",
      "91-100         162837591714       110894.0   1.412795e+04  1.512490e+05   \n",
      "\n",
      "                ride_cost     ride_time  modeled_loss_per_min  EBIT_per_min  \n",
      "score_range                                                                  \n",
      "0-10         5.631650e+06  7.426446e+05             -3.627190     -1.913952  \n",
      "11-20        1.970293e+07  2.641782e+06             -5.085963     -3.497766  \n",
      "21-30        5.172788e+08  7.110512e+07             -2.220371     -0.815525  \n",
      "31-40        1.044523e+09  1.470271e+08             -1.410451     -0.176159  \n",
      "41-50        1.332953e+09  1.911280e+08             -0.625539      0.478601  \n",
      "51-60        7.888475e+08  1.161023e+08             -0.429535      0.494883  \n",
      "61-70        2.838615e+08  4.113360e+07             -0.478257      0.552707  \n",
      "71-80        1.519690e+08  2.237196e+07             -0.345065      0.577768  \n",
      "81-90        7.673033e+07  1.129119e+07             -0.559957      0.365634  \n",
      "91-100       3.223674e+06  4.895691e+05             -0.308943      0.405775  \n",
      "             user_id  K_final_score  target_amount  modeled_loss  ride_cost  \\\n",
      "score_range                                                                   \n",
      "0-10            3453           3453             35          3453       3440   \n",
      "11-20          13348          13348            235         13348      13284   \n",
      "21-30          58286          58286           2616         58286      58164   \n",
      "31-40          85726          85726           3635         85726      85568   \n",
      "41-50         187564         187564           2201        187564     187197   \n",
      "51-60         116727         116727            895        116727     116552   \n",
      "61-70         128787         128787            373        128787     128192   \n",
      "71-80          44635          44635            158         44635      44614   \n",
      "81-90          32273          32273             92         32273      32211   \n",
      "91-100          1143           1143              3          1143       1142   \n",
      "\n",
      "             ride_time  \n",
      "score_range             \n",
      "0-10              3453  \n",
      "11-20            13348  \n",
      "21-30            58286  \n",
      "31-40            85726  \n",
      "41-50           187564  \n",
      "51-60           116727  \n",
      "61-70           128787  \n",
      "71-80            44635  \n",
      "81-90            32273  \n",
      "91-100            1143  \n"
     ]
    },
    {
     "data": {
      "image/png": "[encoded data removed]",
      "text/plain": [
       "<Figure size 432x288 with 1 Axes>"
      ]
     },
     "metadata": {},
     "output_type": "display_data"
    }
   ],
   "source": [
    "df = df[['user_id', 'K_final_score', 'K_KBM','target_amount', 'modeled_loss', 'ride_cost', 'ride_time']]\n",
    "lbls = ['0-10','11-20','21-30','31-40','41-50','51-60','61-70','71-80','81-90','91-100']\n",
    "df['score_range'] = pd.cut(df.K_final_score,10, labels = lbls)\n",
    "# df['modeled_loss_per_min'] = -df['modeled_loss']/df['ride_time']\n",
    "# df['net_profit_per_min'] = round(-df['modeled_loss']/df['ride_time']-2.3+df['ride_cost']/df['ride_time'],2)\n",
    "# df['modeled_loss_per_min'] = df['modeled_loss_per_min'].fillna(0)\n",
    "# df['net_profit_per_min'] = df['net_profit_per_min'].fillna(0)\n",
    "grouped = df.groupby('score_range').sum()\n",
    "grouped2 = df.groupby('score_range').count()\n",
    "grouped['modeled_loss_per_min'] = -grouped['modeled_loss']/grouped['ride_time']\n",
    "grouped['EBIT_per_min'] = -grouped['modeled_loss']/grouped['ride_time']-5.87+grouped['ride_cost']/grouped['ride_time']\n",
    "fig, ax = plt.subplots()\n",
    "grouped['EBIT_per_min'].plot(ax=ax, kind = 'line')\n",
    "plt.xlabel(lbls)\n",
    "print(grouped)\n",
    "print(grouped2)\n",
    "\n",
    "# for i in ['0-10','11-20','21-30','31-40','41-50','51-60','61-70','71-80','81-90','91-100']:\n",
    "#     dfr = df.loc[df.score_range == i]\n",
    "#     sns.distplot(dfr.net_profit_per_min)\n",
    "# sns.distplot(df.net_profit_per_min)\n",
    "# fig, ax = plt.subplots()\n",
    "# df['net_profit_per_min'].value_counts().plot(ax=ax, kind='bar')"
   ]
  },
  {
   "cell_type": "code",
   "execution_count": 26,
   "metadata": {},
   "outputs": [
    {
     "name": "stdout",
     "output_type": "stream",
     "text": [
      "                    user_id  K_KBM_model_score_normalized  target_amount  \\\n",
      "score_range                                                                \n",
      "0-10          1804711786558                       60295.0    12670432.81   \n",
      "11-20         3389861728985                      398103.0    31559362.19   \n",
      "21-30         7537081045800                     1605805.0    83434408.30   \n",
      "31-40         8423564423759                     2686288.0    63034250.06   \n",
      "41-50         9593518316052                     4287626.0    70188979.70   \n",
      "51-60        10001469543527                     5056274.0    43540656.86   \n",
      "61-70         9447347846526                     5758197.0    28609375.46   \n",
      "71-80         9021021863686                     6345026.0    17673291.67   \n",
      "81-90         7747257401329                     6250332.0    17040714.03   \n",
      "91-100        7828106724646                     6404465.0    11022355.78   \n",
      "\n",
      "             modeled_loss     ride_cost     ride_time  modeled_loss_per_min  \\\n",
      "score_range                                                                   \n",
      "0-10         1.950249e+07  7.518059e+07  1.025017e+07             -1.902650   \n",
      "11-20        4.376033e+07  1.696821e+08  2.330685e+07             -1.877574   \n",
      "21-30        1.169063e+08  4.978424e+08  6.875214e+07             -1.700402   \n",
      "31-40        9.591252e+07  5.879498e+08  8.251142e+07             -1.162415   \n",
      "41-50        1.060970e+08  7.195584e+08  1.017179e+08             -1.043051   \n",
      "51-60        7.080157e+07  6.312986e+08  9.033241e+07             -0.783789   \n",
      "61-70        5.191475e+07  5.301179e+08  7.701092e+07             -0.674122   \n",
      "71-80        3.300055e+07  4.276726e+08  6.277455e+07             -0.525699   \n",
      "81-90        2.723662e+07  3.211046e+08  4.781441e+07             -0.569632   \n",
      "91-100       1.954586e+07  2.643144e+08  3.956236e+07             -0.494052   \n",
      "\n",
      "             EBIT_per_min  \n",
      "score_range                \n",
      "0-10            -0.438082  \n",
      "11-20           -0.467222  \n",
      "21-30           -0.329283  \n",
      "31-40            0.093264  \n",
      "41-50            0.161006  \n",
      "51-60            0.334827  \n",
      "61-70            0.339550  \n",
      "71-80            0.417134  \n",
      "81-90            0.276014  \n",
      "91-100           0.316906  \n",
      "             user_id  K_KBM_model_score_normalized  target_amount  \\\n",
      "score_range                                                         \n",
      "0-10           12198                         12198            390   \n",
      "11-20          24316                         24316            744   \n",
      "21-30          62290                         62290           1926   \n",
      "31-40          75462                         75462           1766   \n",
      "41-50          94135                         94135           1737   \n",
      "51-60          91186                         91186           1280   \n",
      "61-70          88257                         88257            990   \n",
      "71-80          84083                         84083            649   \n",
      "81-90          73488                         73488            424   \n",
      "91-100         66527                         66527            337   \n",
      "\n",
      "             modeled_loss  ride_cost  ride_time  \n",
      "score_range                                      \n",
      "0-10                12198      12179      12198  \n",
      "11-20               24316      24274      24316  \n",
      "21-30               62290      62181      62290  \n",
      "31-40               75462      75324      75462  \n",
      "41-50               94135      93955      94135  \n",
      "51-60               91186      90980      91186  \n",
      "61-70               88257      88051      88257  \n",
      "71-80               84083      83852      84083  \n",
      "81-90               73488      73269      73488  \n",
      "91-100              66527      66299      66527  \n"
     ]
    },
    {
     "name": "stderr",
     "output_type": "stream",
     "text": [
      "C:\\ProgramData\\Anaconda3\\lib\\site-packages\\ipykernel_launcher.py:3: SettingWithCopyWarning: \n",
      "A value is trying to be set on a copy of a slice from a DataFrame.\n",
      "Try using .loc[row_indexer,col_indexer] = value instead\n",
      "\n",
      "See the caveats in the documentation: http://pandas.pydata.org/pandas-docs/stable/indexing.html#indexing-view-versus-copy\n",
      "  This is separate from the ipykernel package so we can avoid doing imports until\n"
     ]
    },
    {
     "data": {
      "image/png": "[encoded data removed]",
      "text/plain": [
       "<Figure size 432x288 with 1 Axes>"
      ]
     },
     "metadata": {},
     "output_type": "display_data"
    }
   ],
   "source": [
    "df2 = df[['user_id', 'K_KBM_model_score_normalized','target_amount', 'modeled_loss', 'ride_cost', 'ride_time']]\n",
    "lbls = ['0-10','11-20','21-30','31-40','41-50','51-60','61-70','71-80','81-90','91-100']\n",
    "df2['score_range'] = pd.cut(df.K_KBM_model_score_normalized,10, labels = lbls)\n",
    "grouped = df2.groupby('score_range').sum()\n",
    "grouped2 = df2.groupby('score_range').count()\n",
    "grouped['modeled_loss_per_min'] = -grouped['modeled_loss']/grouped['ride_time']\n",
    "grouped['EBIT_per_min'] = -grouped['modeled_loss']/grouped['ride_time']-5.87+grouped['ride_cost']/grouped['ride_time']\n",
    "fig, ax = plt.subplots()\n",
    "grouped['EBIT_per_min'].plot(ax=ax, kind = 'line')\n",
    "plt.xlabel(lbls)\n",
    "print(grouped)\n",
    "print(grouped2)"
   ]
  }
 ],
 "metadata": {
  "kernelspec": {
   "display_name": "Python 3",
   "language": "python",
   "name": "python3"
  },
  "language_info": {
   "codemirror_mode": {
    "name": "ipython",
    "version": 3
   },
   "file_extension": ".py",
   "mimetype": "text/x-python",
   "name": "python",
   "nbconvert_exporter": "python",
   "pygments_lexer": "ipython3",
   "version": "3.6.10"
  }
 },
 "nbformat": 4,
 "nbformat_minor": 2
}
