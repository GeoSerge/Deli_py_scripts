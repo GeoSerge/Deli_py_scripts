{
 "cells": [
  {
   "cell_type": "markdown",
   "metadata": {},
   "source": [
    "# User's Creditworthiness Model"
   ]
  },
  {
   "cell_type": "code",
   "execution_count": 2,
   "metadata": {},
   "outputs": [],
   "source": [
    "import pandas as pd\n",
    "import numpy as np\n",
    "from sklearn.linear_model import LinearRegression\n",
    "from sklearn.linear_model import LogisticRegression\n",
    "from sklearn.ensemble import RandomForestClassifier\n",
    "from sklearn.ensemble import GradientBoostingClassifier\n",
    "from sklearn.metrics import roc_auc_score\n",
    "from sklearn.metrics import mean_squared_error\n",
    "from sklearn.metrics import mean_absolute_error\n",
    "from sklearn.metrics import classification_report, confusion_matrix\n",
    "from sklearn.compose import make_column_transformer\n",
    "from sklearn import preprocessing\n",
    "from sklearn.preprocessing import OneHotEncoder\n",
    "from sklearn.preprocessing import StandardScaler\n",
    "from sklearn.pipeline import make_pipeline\n",
    "from sklearn.model_selection import cross_val_score\n",
    "from sklearn.model_selection import train_test_split\n",
    "from sklearn.model_selection import GridSearchCV\n",
    "import matplotlib.pyplot as plt\n",
    "import statsmodels.api as sm\n",
    "import seaborn as sn\n",
    "from keras.models import Sequential\n",
    "from keras.layers import Dense"
   ]
  },
  {
   "cell_type": "markdown",
   "metadata": {},
   "source": [
    "### Loading Data"
   ]
  },
  {
   "cell_type": "code",
   "execution_count": 3,
   "metadata": {},
   "outputs": [],
   "source": [
    "# OPENING RAW DATAFRAME\n",
    "df = pd.read_csv('C:/Users/sgulbin/Work/Analysis/Платежеспособность/v4_/raw_data.csv')"
   ]
  },
  {
   "cell_type": "markdown",
   "metadata": {},
   "source": [
    "### Preparing Data"
   ]
  },
  {
   "cell_type": "code",
   "execution_count": 4,
   "metadata": {},
   "outputs": [],
   "source": [
    "# CLEANING AGE AND EXP VALUES\n",
    "df['age'] = np.where(((df.age < 18)|(df.age>65)),np.nan,df.age)\n",
    "df['exp'] = np.where(((df.exp < 0)|(df.exp>47)),np.nan,df.exp)\n",
    "df = df.dropna(axis = 'rows', subset = ['age','exp'])\n",
    "\n",
    "# CALCULATING AGE AT WHICH DRIVER'S LICENSE STARTED\n",
    "df['driving_start_age'] = df.age - df.exp\n",
    "\n",
    "# EXTRACTING REGION CODE FROM PASSPORT DEPARTMENT CODE\n",
    "df['pdc'] = '<'+df.PassportDepartmentCode.str[:2]+'>'\n",
    "\n",
    "# REMOVING NOT APPLICABLE DATA\n",
    "df = df[df.invoice_status != 'not applicable']\n",
    "\n",
    "# CODING TARGET VALUES WITH 0 OR 1\n",
    "df['target'] = np.where(df.invoice_status == 'not_paid', 1, 0)"
   ]
  },
  {
   "cell_type": "markdown",
   "metadata": {},
   "source": [
    "### Preparing and Organizing Categorical Dataframes"
   ]
  },
  {
   "cell_type": "code",
   "execution_count": 5,
   "metadata": {},
   "outputs": [],
   "source": [
    "# PREPARING DEVICES DATAFRAME\n",
    "devices_lib = pd.read_csv('C:/Users/sgulbin/Work/Analysis/Платежеспособность/data_lib/devices_lib.csv')"
   ]
  },
  {
   "cell_type": "code",
   "execution_count": 6,
   "metadata": {},
   "outputs": [],
   "source": [
    "# PREPARING KBM DATAFRAME\n",
    "df['kbm_grouped'] = np.where(df['kbm']<0.7,'0.5+',\\\n",
    "                              np.where(df['kbm']<0.8,'0.7+',\\\n",
    "                                       np.where(df['kbm']<0.9,'0.8+',\\\n",
    "                                                np.where(df['kbm']<1,'0.9+',\\\n",
    "                                                         np.where(df['kbm'] == 1, '1',\\\n",
    "                                                                  np.where(df['kbm']<2.3,'1.4+',\\\n",
    "                                                                           np.where(df['kbm']>=2.3,'2.3+','?')))))))\n",
    "df = df.replace('?', np.NaN)"
   ]
  },
  {
   "cell_type": "code",
   "execution_count": 7,
   "metadata": {},
   "outputs": [],
   "source": [
    "# PREPARING BIRTH PLACE REGION DATAFRAME\n",
    "bp = pd.read_csv('C:/Users/sgulbin/Work/Analysis/Платежеспособность/data_lib/birthplaces_lib.csv')\n",
    "bp = bp[['PassportBirthPlace','country','region']]\n",
    "bp = bp.replace('None', np.nan)\n",
    "bp = bp.dropna(axis='rows')\n",
    "bp = bp.drop_duplicates(subset = ['PassportBirthPlace'])\n",
    "\n",
    "# BIRTH PLACES LIB\n",
    "bp_clsfied = pd.read_csv('C:/Users/sgulbin/Work/Analysis/Платежеспособность/data_lib/birthplaces_classified_lib.csv')\n",
    "\n",
    "# COUNTRIES\n",
    "countries = bp_clsfied.drop_duplicates(subset = 'bp_country')\n",
    "countries = pd.concat([countries.iloc[1:2],countries.iloc[3:]], axis='rows')\n",
    "countries = countries[['bp_country', 'bp_region_group_detailed']]\n",
    "\n",
    "# MERGING\n",
    "bp = pd.merge(bp, bp_clsfied, left_on = 'region', right_on = 'bp_region_group_detailed', how = 'left')\n",
    "bp = pd.merge(bp, countries, left_on = 'country', right_on = 'bp_country', how = 'left')\n",
    "\n",
    "bp['bp_region_group_detailed'] = np.where(pd.isnull(bp.bp_region_group_detailed_x) == True,bp.bp_region_group_detailed_y,\\\n",
    "                                            bp.bp_region_group_detailed_x)\n",
    "bp = bp[['PassportBirthPlace', 'bp_region_group_detailed']]"
   ]
  },
  {
   "cell_type": "code",
   "execution_count": 8,
   "metadata": {},
   "outputs": [],
   "source": [
    "# PREPARING PASSPORT DEPARTMENT CODES\n",
    "pdc = pd.read_csv('C:/Users/sgulbin/Work/Analysis/Платежеспособность/data_lib/psp_regions_codes_lib.csv')"
   ]
  },
  {
   "cell_type": "code",
   "execution_count": 9,
   "metadata": {},
   "outputs": [],
   "source": [
    "# PREPARING MOBILE OPERATORS DATAFRAME\n",
    "mob = pd.read_csv('C:/Users/sgulbin/Work/Analysis/Платежеспособность/data_lib/mobile_codes_lib.csv')"
   ]
  },
  {
   "cell_type": "code",
   "execution_count": 10,
   "metadata": {},
   "outputs": [],
   "source": [
    "# PREPARING LICENSE CATEGORY DATAFRAME\n",
    "lcns = pd.read_csv('C:/Users/sgulbin/Work/Analysis/Платежеспособность/data_lib/license_cat_lib.csv')"
   ]
  },
  {
   "cell_type": "code",
   "execution_count": 11,
   "metadata": {},
   "outputs": [],
   "source": [
    "# PREPARING DELIMOBIL REGION DATAFRAME\n",
    "deli_regions = pd.DataFrame({'deli_region_en':['St. Petersburg', 'Moscow', 'Krasnodar', 'Yekaterinburg', 'Tula', 'Novosibirsk',\\\n",
    "                                     'Samara', 'Nizhny Novgorod'],\\\n",
    "                             'deli_region_ru':['Санкт-Петербург','Москва','Краснодарский край', 'Свердловская область',\\\n",
    "                                            'Тульская область', 'Новосибирская область', 'Самарская область',\\\n",
    "                                            'Нижегородская область']})"
   ]
  },
  {
   "cell_type": "markdown",
   "metadata": {},
   "source": [
    "### Enriching Original Dataframe with Categorical Data"
   ]
  },
  {
   "cell_type": "code",
   "execution_count": 12,
   "metadata": {},
   "outputs": [
    {
     "name": "stdout",
     "output_type": "stream",
     "text": [
      "<class 'pandas.core.frame.DataFrame'>\n",
      "Int64Index: 16554 entries, 0 to 16553\n",
      "Data columns (total 48 columns):\n",
      " #   Column                         Non-Null Count  Dtype  \n",
      "---  ------                         --------------  -----  \n",
      " 0   user_id                        16554 non-null  int64  \n",
      " 1   login                          16554 non-null  int64  \n",
      " 2   age                            16554 non-null  float64\n",
      " 3   exp                            16554 non-null  float64\n",
      " 4   birth_place                    12469 non-null  object \n",
      " 5   kbm                            13075 non-null  float64\n",
      " 6   sex                            16554 non-null  object \n",
      " 7   device_type                    14254 non-null  object \n",
      " 8   region_name_en                 16554 non-null  object \n",
      " 9   mobile_code                    16554 non-null  int64  \n",
      " 10  license_category               12381 non-null  object \n",
      " 11  PassportDepartmentCode         5635 non-null   object \n",
      " 12  PassportRegistration           5830 non-null   object \n",
      " 13  first_name                     16549 non-null  object \n",
      " 14  patronymic_name                16068 non-null  object \n",
      " 15  last_name                      16552 non-null  object \n",
      " 16  user_id.1                      16554 non-null  int64  \n",
      " 17  invoice_creation_dt            16554 non-null  object \n",
      " 18  invoice_close_dt               16554 non-null  object \n",
      " 19  error_amount                   16554 non-null  float64\n",
      " 20  waiting_amount                 16554 non-null  float64\n",
      " 21  success_amount                 16554 non-null  float64\n",
      " 22  invoice_status                 16554 non-null  object \n",
      " 23  invoice_status_detailed        16554 non-null  object \n",
      " 24  invoice_life_length            16554 non-null  float64\n",
      " 25  invoice_start_to_current_date  16554 non-null  float64\n",
      " 26  ride_time_agg                  14524 non-null  float64\n",
      " 27  threshold_timestamp            16554 non-null  object \n",
      " 28  last_5h_end_rank               16554 non-null  int64  \n",
      " 29  driving_start_age              16554 non-null  float64\n",
      " 30  pdc                            5635 non-null   object \n",
      " 31  target                         16554 non-null  int32  \n",
      " 32  kbm_grouped                    13075 non-null  object \n",
      " 33  device                         14202 non-null  object \n",
      " 34  device_standardized            14202 non-null  object \n",
      " 35  brand                          14202 non-null  object \n",
      " 36  device_gen                     14202 non-null  object \n",
      " 37  device_release_year            8068 non-null   float64\n",
      " 38  device_feature                 7399 non-null   object \n",
      " 39  PassportBirthPlace             9306 non-null   object \n",
      " 40  bp_region_group_detailed       8622 non-null   object \n",
      " 41  mobile_operator                16542 non-null  object \n",
      " 42  license_category_grouped       8139 non-null   object \n",
      " 43  psp_dep_region_code            5506 non-null   object \n",
      " 44  psp_region                     5506 non-null   object \n",
      " 45  psp_fed_district               5506 non-null   object \n",
      " 46  deli_region_en                 16554 non-null  object \n",
      " 47  deli_region_ru                 16554 non-null  object \n",
      "dtypes: float64(11), int32(1), int64(5), object(31)\n",
      "memory usage: 6.1+ MB\n"
     ]
    }
   ],
   "source": [
    "# DATA ENRICHMENT\n",
    "df = pd.merge(df, devices_lib, left_on = 'device_type', right_on = 'device', how = 'left')\n",
    "df = pd.merge(df, bp, left_on = 'birth_place', right_on = 'PassportBirthPlace', how = 'left')\n",
    "df = pd.merge(df, mob, on = 'mobile_code', how = 'left')\n",
    "df = pd.merge(df, lcns, on = 'license_category', how = 'left')\n",
    "df = pd.merge(df, pdc, left_on = 'pdc', right_on = 'psp_dep_region_code', how = 'left')\n",
    "df = pd.merge(df, deli_regions, left_on = 'region_name_en', right_on = 'deli_region_en', how = 'left')\n",
    "df.info()"
   ]
  },
  {
   "cell_type": "markdown",
   "metadata": {},
   "source": [
    "### Calculating Features"
   ]
  },
  {
   "cell_type": "code",
   "execution_count": 13,
   "metadata": {},
   "outputs": [
    {
     "name": "stdout",
     "output_type": "stream",
     "text": [
      "<class 'pandas.core.frame.DataFrame'>\n",
      "Int64Index: 16554 entries, 0 to 16553\n",
      "Data columns (total 52 columns):\n",
      " #   Column                         Non-Null Count  Dtype  \n",
      "---  ------                         --------------  -----  \n",
      " 0   user_id                        16554 non-null  int64  \n",
      " 1   login                          16554 non-null  int64  \n",
      " 2   age                            16554 non-null  float64\n",
      " 3   exp                            16554 non-null  float64\n",
      " 4   birth_place                    12469 non-null  object \n",
      " 5   kbm                            13075 non-null  float64\n",
      " 6   sex                            16554 non-null  object \n",
      " 7   device_type                    14254 non-null  object \n",
      " 8   region_name_en                 16554 non-null  object \n",
      " 9   mobile_code                    16554 non-null  int64  \n",
      " 10  license_category               12381 non-null  object \n",
      " 11  PassportDepartmentCode         5635 non-null   object \n",
      " 12  PassportRegistration           5830 non-null   object \n",
      " 13  first_name                     16549 non-null  object \n",
      " 14  patronymic_name                16068 non-null  object \n",
      " 15  last_name                      16552 non-null  object \n",
      " 16  user_id.1                      16554 non-null  int64  \n",
      " 17  invoice_creation_dt            16554 non-null  object \n",
      " 18  invoice_close_dt               16554 non-null  object \n",
      " 19  error_amount                   16554 non-null  float64\n",
      " 20  waiting_amount                 16554 non-null  float64\n",
      " 21  success_amount                 16554 non-null  float64\n",
      " 22  invoice_status                 16554 non-null  object \n",
      " 23  invoice_status_detailed        16554 non-null  object \n",
      " 24  invoice_life_length            16554 non-null  float64\n",
      " 25  invoice_start_to_current_date  16554 non-null  float64\n",
      " 26  ride_time_agg                  14524 non-null  float64\n",
      " 27  threshold_timestamp            16554 non-null  object \n",
      " 28  last_5h_end_rank               16554 non-null  int64  \n",
      " 29  driving_start_age              16554 non-null  float64\n",
      " 30  pdc                            5635 non-null   object \n",
      " 31  target                         16554 non-null  int32  \n",
      " 32  kbm_grouped                    13075 non-null  object \n",
      " 33  device                         14202 non-null  object \n",
      " 34  device_standardized            14202 non-null  object \n",
      " 35  brand                          14202 non-null  object \n",
      " 36  device_gen                     14202 non-null  object \n",
      " 37  device_release_year            8068 non-null   float64\n",
      " 38  device_feature                 7399 non-null   object \n",
      " 39  PassportBirthPlace             9306 non-null   object \n",
      " 40  bp_region_group_detailed       8622 non-null   object \n",
      " 41  mobile_operator                16542 non-null  object \n",
      " 42  license_category_grouped       8139 non-null   object \n",
      " 43  psp_dep_region_code            5506 non-null   object \n",
      " 44  psp_region                     5506 non-null   object \n",
      " 45  psp_fed_district               5506 non-null   object \n",
      " 46  deli_region_en                 16554 non-null  object \n",
      " 47  deli_region_ru                 16554 non-null  object \n",
      " 48  thld_year                      16554 non-null  int64  \n",
      " 49  device_age_at_thld_date        16554 non-null  object \n",
      " 50  moved_after_birth              16554 non-null  object \n",
      " 51  deli_out_of_psp_region         16554 non-null  object \n",
      "dtypes: float64(11), int32(1), int64(6), object(34)\n",
      "memory usage: 6.6+ MB\n"
     ]
    }
   ],
   "source": [
    "# CALCULATING AGE OF DEVICE MODEL ON THE USER'S ACTIVATION DATE\n",
    "df['thld_year'] = pd.DatetimeIndex(df.threshold_timestamp).year\n",
    "df['device_age_at_thld_date']  = df.thld_year-df.device_release_year\n",
    "df.device_age_at_thld_date = df.device_age_at_thld_date.astype('str')\n",
    "\n",
    "# DOES USER MOVE AFTER BIRTH OR NOT\n",
    "df['moved_after_birth'] = np.where(((df.bp_region_group_detailed.isnull())|(df.psp_region.isnull())),np.nan,\\\n",
    "                                   np.where(df.bp_region_group_detailed != df.psp_region, 'moved', 'stayed'))\n",
    "\n",
    "# DOES USER USE DELI OUT OF A REGION WHERE HE GOT PASSPORT\n",
    "df['deli_out_of_psp_region'] = np.where(((df.deli_region_ru.isnull())|(df.psp_region.isnull())),np.nan,\\\n",
    "                                   np.where(df.deli_region_ru != df.psp_region, 'moved', 'stayed'))\n",
    "df.info()"
   ]
  },
  {
   "cell_type": "markdown",
   "metadata": {},
   "source": [
    "### Testing Neural Network Performance"
   ]
  },
  {
   "cell_type": "code",
   "execution_count": 21,
   "metadata": {},
   "outputs": [
    {
     "name": "stdout",
     "output_type": "stream",
     "text": [
      "Epoch 1/15\n",
      "13243/13243 [==============================] - 11s 768us/step - loss: 0.6620\n",
      "Epoch 2/15\n",
      "13243/13243 [==============================] - 12s 870us/step - loss: 0.6838\n",
      "Epoch 3/15\n",
      "13243/13243 [==============================] - 11s 837us/step - loss: 0.6892\n",
      "Epoch 4/15\n",
      "13243/13243 [==============================] - 11s 832us/step - loss: 0.6880\n",
      "Epoch 5/15\n",
      "13243/13243 [==============================] - 12s 890us/step - loss: 0.6875\n",
      "Epoch 6/15\n",
      "13243/13243 [==============================] - 11s 833us/step - loss: 0.6863\n",
      "Epoch 7/15\n",
      "13243/13243 [==============================] - 11s 868us/step - loss: 0.6958\n",
      "Epoch 8/15\n",
      "13243/13243 [==============================] - 11s 863us/step - loss: 0.7134\n",
      "Epoch 9/15\n",
      "13243/13243 [==============================] - 11s 811us/step - loss: 0.7085\n",
      "Epoch 10/15\n",
      "13243/13243 [==============================] - 11s 824us/step - loss: 0.7159\n",
      "Epoch 11/15\n",
      "13243/13243 [==============================] - 11s 858us/step - loss: 0.7122\n",
      "Epoch 12/15\n",
      "13243/13243 [==============================] - 11s 834us/step - loss: 0.6971\n",
      "Epoch 13/15\n",
      "13243/13243 [==============================] - 11s 825us/step - loss: 0.7010\n",
      "Epoch 14/15\n",
      "13243/13243 [==============================] - 11s 835us/step - loss: 0.7169\n",
      "Epoch 15/15\n",
      "13243/13243 [==============================] - 12s 874us/step - loss: 0.6972\n",
      "0.6277998782793046\n"
     ]
    }
   ],
   "source": [
    "# LEAVING ONLY COLUMNS THAT'LL BE USED FOR THE MODEL\n",
    "features = ['mobile_operator', 'sex', 'age', 'exp', 'bp_region_group_detailed', 'kbm_grouped', 'brand',\\\n",
    "            'device_age_at_thld_date', 'device_feature', 'region_name_en', 'license_category_grouped', 'driving_start_age',\\\n",
    "            'psp_region', 'moved_after_birth', 'deli_out_of_psp_region']\n",
    "target = ['target']\n",
    "df = df[features+target]\n",
    "\n",
    "# REPLACING NA VALUES WITH 'NaN'\n",
    "df = df.replace('nan', np.nan)\n",
    "for feature in ['mobile_operator', 'sex', 'bp_region_group_detailed', 'kbm_grouped', 'brand','device_age_at_thld_date',\\\n",
    "                'device_feature', 'region_name_en', 'license_category_grouped', 'psp_region',\\\n",
    "                'moved_after_birth', 'deli_out_of_psp_region']:\n",
    "    df[feature] = df[feature].fillna('NaN')\n",
    "    \n",
    "# SPLITTING DATASET INTO X AND y\n",
    "df = df.reset_index(drop=True)\n",
    "X = df.iloc[:,:-1]\n",
    "y = df.iloc[:,-1:]\n",
    "\n",
    "# ONE-HOT ENCODING\n",
    "enc = preprocessing.OneHotEncoder()\n",
    "X_obj = X.loc[:, X.dtypes == object]\n",
    "X_flt = X.loc[:, X.dtypes == float]\n",
    "enc.fit(X_obj)\n",
    "X = pd.DataFrame(enc.transform(X_obj).toarray())\n",
    "X = X.join(X_flt)\n",
    "\n",
    "# SPLITTING X AND y TO TRAIN AND TEST SAMPLES\n",
    "X_train, X_test, y_train, y_test = train_test_split(X, y, test_size=0.2)\n",
    "\n",
    "# NN\n",
    "classifier = Sequential()\n",
    "classifier.add(Dense(units = 64, activation = 'relu', input_dim = 249))\n",
    "classifier.add(Dense(units = 32, activation = 'relu'))\n",
    "classifier.add(Dense(units = 1, activation = 'sigmoid'))\n",
    "\n",
    "classifier.compile(optimizer = 'rmsprop', loss = 'binary_crossentropy')\n",
    "classifier.fit(X_train, y_train, batch_size = 1, epochs = 15)\n",
    "\n",
    "y_pred = classifier.predict(X_test)\n",
    "\n",
    "print(roc_auc_score(y_test, y_pred))"
   ]
  }
 ],
 "metadata": {
  "kernelspec": {
   "display_name": "Python 3",
   "language": "python",
   "name": "python3"
  },
  "language_info": {
   "codemirror_mode": {
    "name": "ipython",
    "version": 3
   },
   "file_extension": ".py",
   "mimetype": "text/x-python",
   "name": "python",
   "nbconvert_exporter": "python",
   "pygments_lexer": "ipython3",
   "version": "3.7.10"
  }
 },
 "nbformat": 4,
 "nbformat_minor": 4
}
