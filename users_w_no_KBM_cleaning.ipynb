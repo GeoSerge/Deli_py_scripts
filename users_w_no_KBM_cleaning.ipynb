{
 "cells": [
  {
   "cell_type": "code",
   "execution_count": 2,
   "metadata": {},
   "outputs": [],
   "source": [
    "import pandas as pd\n",
    "import numpy as np\n",
    "from datetime import timedelta\n",
    "import re"
   ]
  },
  {
   "cell_type": "code",
   "execution_count": 63,
   "metadata": {},
   "outputs": [
    {
     "name": "stderr",
     "output_type": "stream",
     "text": [
      "C:\\ProgramData\\Anaconda3\\lib\\site-packages\\IPython\\core\\interactiveshell.py:2785: DtypeWarning: Columns (8,11) have mixed types. Specify dtype option on import or set low_memory=False.\n",
      "  interactivity=interactivity, compiler=compiler, result=result)\n"
     ]
    }
   ],
   "source": [
    "df = pd.read_csv('C:/Users/sgulbin/Work/Scoring (Accidents)/2020-03Test_v2/KBM_data/users_w_no_KBM.csv')\n",
    "pckg = pd.read_csv('C:/Users/sgulbin/Work/Scoring (Accidents)/2020-03Test_v2/KBM_data/KBM_package_225K.csv')\n",
    "pckg['pckg'] = 1\n",
    "pckg = pckg[['user_id','pckg']]\n",
    "df = pd.merge(df, pckg, on = 'user_id', how = 'left')\n",
    "df = df.loc[pd.isnull(df['pckg'])]\n",
    "df = df[['user_id', 'License', 'first_name', 'patronymic_name', 'last_name','birthday', 'rus_ctzn']]"
   ]
  },
  {
   "cell_type": "code",
   "execution_count": 64,
   "metadata": {},
   "outputs": [
    {
     "name": "stdout",
     "output_type": "stream",
     "text": [
      "birthday_error 0.0    804463\n",
      "Name: birthday_error, dtype: int64\n",
      "license_error False    752276\n",
      "True      52187\n",
      "Name: license_error, dtype: int64\n",
      "FIO_NA False    804463\n",
      "Name: FIO_NA, dtype: int64\n",
      "FIO_nick False    804463\n",
      "Name: FIO_nick, dtype: int64\n",
      "FIO_latin False    804463\n",
      "Name: FIO_latin, dtype: int64\n",
      "any_error False    752276\n",
      "True      52187\n",
      "Name: any_error, dtype: int64\n"
     ]
    }
   ],
   "source": [
    "df['birthday_dt'] = pd.to_datetime(df['birthday'], errors = 'coerce')\n",
    "df['license_f'] = df['License'].str.replace(' ','')\n",
    "df['birthday_error'] = ((pd.to_datetime('today')-df['birthday_dt']).astype('timedelta64[Y]') < 19.0)|\\\n",
    "                        ((pd.to_datetime('today')-df['birthday_dt']).astype('timedelta64[Y]') > 80.0)|\\\n",
    "                        (pd.isnull(df['birthday_dt']))\n",
    "for i in ['first_name', 'patronymic_name', 'last_name']:\n",
    "    if i == 'patronymic_name':\n",
    "        df.loc[(df[i].str.isalpha() == False)|\\\n",
    "               (df[i] == 'Нет')|\\\n",
    "               (df[i] == 'нет')|\\\n",
    "               (df[i] == 'Отсутствует')|\\\n",
    "               (df[i] == 'отсутствует')|\\\n",
    "               (df[i] == 'В')|\\\n",
    "               (df[i] == 'Процессе')|\\\n",
    "               (df[i] == 'Регистрации')|\\\n",
    "               (df[i].str.isnumeric() == True)] = np.nan\n",
    "        df[i+'_nick'] = df[i].str.contains('Мойка')|\\\n",
    "                        df[i].str.contains('Каршайн')|\\\n",
    "                        df[i].str.contains('Карсервис')|\\\n",
    "                        df[i].str.contains('Омывайка')|\\\n",
    "                        df[i].str.contains('Нафта')|\\\n",
    "                        df[i].str.contains('Пройл')|\\\n",
    "                        df[i].str.contains('Пролив')\n",
    "        df[i+'_latin'] = df[i].str.contains(pat = '[a-zA-Z]', regex = True)\n",
    "    else:\n",
    "        df[i+'_NA'] = ((pd.isnull(df[i]))|\\\n",
    "                       (df[i].str.isalpha() == False)|\\\n",
    "                       (df[i] == 'Нет')|\\\n",
    "                       (df[i] == 'нет')|\\\n",
    "                       (df[i] == 'Отсутствует')|\\\n",
    "                       (df[i] == 'отсутствует')|\\\n",
    "                       (df[i] == 'В')|\\\n",
    "                       (df[i] == 'Процессе')|\\\n",
    "                       (df[i] == 'Регистрации'))\n",
    "        df[i+'_nick'] = df[i].str.contains('Мойка')|\\\n",
    "                        df[i].str.contains('Каршайн')|\\\n",
    "                        df[i].str.contains('Карсервис')|\\\n",
    "                        df[i].str.contains('Омывайка')|\\\n",
    "                        df[i].str.contains('Нафта')|\\\n",
    "                        df[i].str.contains('Пройл')|\\\n",
    "                        df[i].str.contains('Пролив')\n",
    "        df[i+'_latin'] = df[i].str.contains(pat = '[a-zA-Z]', regex = True)\n",
    "df['FIO_NA'] = (df['first_name_NA'] == True)|(df['last_name_NA'] == True)\n",
    "df['FIO_nick'] = (df['first_name_nick'] == True)|(df['patronymic_name_nick'] == True)|(df['last_name_nick'] == True)\n",
    "df['FIO_latin'] = (df['first_name_latin'] == True)|(df['patronymic_name_latin'] == True)|(df['last_name_latin'] == True)\n",
    "df['license_error'] = (df['license_f'].str.len()!=10.0)|(pd.isnull(df.license_f))\n",
    "df['any_error'] = (df.license_error == True)|(df.birthday_error == True)|(df.FIO_NA == True)|(df.FIO_nick == True)|(df.FIO_latin == True)\n",
    "df_clean = df.loc[(df.birthday_error == False)&(df.FIO_NA == False)&(df.FIO_nick == False)&(df.FIO_latin == False)]\n",
    "output = df_clean[['user_id','first_name', 'patronymic_name', 'last_name','birthday_dt', 'license_f', 'any_error']]\n",
    "output1 = output.loc[output.index <= 550000]\n",
    "output2 = output.loc[output.index > 550000]\n",
    "output1.to_csv('C:/Users/sgulbin/Work/Scoring (Accidents)/2020-03Test_v2/KBM_data/users_w_no_KBM_cleaned1.csv')\n",
    "output2.to_csv('C:/Users/sgulbin/Work/Scoring (Accidents)/2020-03Test_v2/KBM_data/users_w_no_KBM_cleaned2.csv')\n",
    "df_rus = df.loc[df.rus_ctzn == 1.0]\n",
    "for i in ['birthday_error', 'license_error', 'FIO_NA', 'FIO_nick', 'FIO_latin', 'any_error']:\n",
    "    print(i,df_clean[i].value_counts())"
   ]
  }
 ],
 "metadata": {
  "kernelspec": {
   "display_name": "Python 3",
   "language": "python",
   "name": "python3"
  },
  "language_info": {
   "codemirror_mode": {
    "name": "ipython",
    "version": 3
   },
   "file_extension": ".py",
   "mimetype": "text/x-python",
   "name": "python",
   "nbconvert_exporter": "python",
   "pygments_lexer": "ipython3",
   "version": "3.6.5"
  }
 },
 "nbformat": 4,
 "nbformat_minor": 2
}
