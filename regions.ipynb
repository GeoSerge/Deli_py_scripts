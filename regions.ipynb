{
 "cells": [
  {
   "cell_type": "code",
   "execution_count": 1,
   "metadata": {},
   "outputs": [],
   "source": [
    "import pandas as pd\n",
    "import numpy as np"
   ]
  },
  {
   "cell_type": "code",
   "execution_count": null,
   "metadata": {},
   "outputs": [],
   "source": [
    "df = pd.read_csv('''тут таблица с birth_place''')"
   ]
  },
  {
   "cell_type": "markdown",
   "metadata": {},
   "source": [
    "________"
   ]
  },
  {
   "cell_type": "code",
   "execution_count": 14,
   "metadata": {},
   "outputs": [],
   "source": [
    "df.birth_place = df.birth_place.str.upper().str.strip()"
   ]
  },
  {
   "cell_type": "code",
   "execution_count": 15,
   "metadata": {},
   "outputs": [],
   "source": [
    "df.birth_place = df.birth_place.str.replace('.', '. ').str.strip().str.strip('.').str.replace('  ', ' ')"
   ]
  },
  {
   "cell_type": "code",
   "execution_count": 16,
   "metadata": {},
   "outputs": [],
   "source": [
    "df.birth_place = df.birth_place.map(\n",
    "    {\n",
    "        record: record.replace('Г.', 'ГОР.')#.replace('ГОРОД ', 'ГОР. ').replace('Г ', 'ГОР. ')  \n",
    "        if pd.notnull(record) else np.nan \n",
    "        for record in df.birth_place.unique()\n",
    "    }\n",
    ")"
   ]
  },
  {
   "cell_type": "code",
   "execution_count": 17,
   "metadata": {},
   "outputs": [],
   "source": [
    "# выявляем дагестанцев\n",
    "dagestan = []\n",
    "for name in df['birth_place'].dropna().unique():\n",
    "    name = name.lower()\n",
    "    if (\n",
    "        ('дагестан' in name)|('махачкал' in name)|('хасавюрт' in name)|('дербент' in name)|('буйнакск' in name)\n",
    "        |(('каспийск' in name)&('калмы' not in name))):\n",
    "        dagestan.append(name.upper())\n",
    "#         print(name.upper())"
   ]
  },
  {
   "cell_type": "code",
   "execution_count": 18,
   "metadata": {},
   "outputs": [],
   "source": [
    "# из чечни\n",
    "chechnya_ingush = []\n",
    "for name in df['birth_place'].dropna().unique():\n",
    "    name = name.lower()\n",
    "    if (\n",
    "        ('чечен' in name)|('грозный' in name)|('урус-мартан' in name)|('гудермес' in name)\n",
    "        |('ингуш' in name)|('назран' in name)|('сунж' in name)|('карабулак' in name)\n",
    "    ):\n",
    "        chechnya_ingush.append(name.upper())\n",
    "#         print(name.upper())"
   ]
  },
  {
   "cell_type": "code",
   "execution_count": 19,
   "metadata": {},
   "outputs": [],
   "source": [
    "mosk = ['ГОР. МОСКВА', 'ГОРОД МОСКВА', 'МОСКВА']"
   ]
  },
  {
   "cell_type": "code",
   "execution_count": 20,
   "metadata": {},
   "outputs": [],
   "source": [
    "kalmik = []\n",
    "for name in df['birth_place'].dropna().unique():\n",
    "    name = name.lower()\n",
    "    if (\n",
    "        ('калмык' in name)|('элиста' in name)|('лагань' in name)\n",
    "    ):\n",
    "        kalmik.append(name.upper())\n",
    "#         print(name.upper())"
   ]
  },
  {
   "cell_type": "code",
   "execution_count": 21,
   "metadata": {},
   "outputs": [],
   "source": [
    "tadzhik = []\n",
    "for name in df['birth_place'].dropna().unique():\n",
    "    name = name.lower()\n",
    "    if (\n",
    "        ('таджикист' in name)|('душанбе' in name)|('худжанд' in name)|('бохтар' in name)|('куляб' in name)\n",
    "        |('истаравшан' in name)\n",
    "    ):\n",
    "        tadzhik.append(name.upper())\n",
    "#         print(name.upper())"
   ]
  },
  {
   "cell_type": "code",
   "execution_count": 22,
   "metadata": {},
   "outputs": [],
   "source": [
    "uzbek = []\n",
    "for name in df['birth_place'].dropna().unique():\n",
    "    name = name.lower()\n",
    "    if (\n",
    "        ('узбек' in name)|('нукус' in name)|('турткуль' in name)|('ходжейли' in name)|('беруни' in name)\n",
    "        |('чимбай' in name)\n",
    "    ):\n",
    "        uzbek.append(name.upper())\n",
    "#         print(name.upper())"
   ]
  },
  {
   "cell_type": "code",
   "execution_count": 23,
   "metadata": {},
   "outputs": [],
   "source": [
    "kazah = []\n",
    "for name in df['birth_place'].dropna().unique():\n",
    "    name = name.lower()\n",
    "    if (\n",
    "        ('казах' in name)|('алма-ата' in name)|('нур-султан' in name)|('шымкент' in name)|('актобе' in name)\n",
    "        |('караганда' in name)|('КА3АХСТАН'.lower() in name)\n",
    "    ):\n",
    "        kazah.append(name.upper())\n",
    "#         print(name.upper())"
   ]
  },
  {
   "cell_type": "code",
   "execution_count": 24,
   "metadata": {},
   "outputs": [],
   "source": [
    "mosk_obl = []\n",
    "for name in df['birth_place'].dropna().unique():\n",
    "    name = name.lower()\n",
    "    if (\n",
    "        (('москов' in name)&('обл' in name))\n",
    "        |('балаших' in name)|('подольск' in name)|('химки' in name)|('королев' in name)|('королёв' in name)|('мытищи' in name)\n",
    "        |('люберцы' in name)|('красногорск' in name)|('электросталь' in name)|('коломна' in name)|('одинцово' in name)\n",
    "        |('домодедов' in name)|('серпухов' in name)\n",
    "    ):\n",
    "        mosk_obl.append(name.upper())\n",
    "#         print(name.upper())"
   ]
  },
  {
   "cell_type": "code",
   "execution_count": 25,
   "metadata": {},
   "outputs": [],
   "source": [
    "bashkir = []\n",
    "for name in df['birth_place'].dropna().unique():\n",
    "    name = name.lower()\n",
    "    if (\n",
    "        ('башкир' in name)|('башкортост' in name)|('уфа' in name)|('уфим' in name)|('салават' in name)|('стерлитамак' in name)\n",
    "        |('нефтекамск' in name)\n",
    "    ):\n",
    "        bashkir.append(name.upper())\n",
    "#         print(name.upper())"
   ]
  },
  {
   "cell_type": "code",
   "execution_count": 26,
   "metadata": {},
   "outputs": [],
   "source": [
    "stavropol = []\n",
    "for name in df['birth_place'].dropna().unique():\n",
    "    name = name.lower()\n",
    "    if (\n",
    "        ('ставрополь' in name)|('пятигорск' in name)|('ессентуки' in name)|('михайловск' in name)|('кисловодск' in name)\n",
    "        |('невинномысск' in name)\n",
    "    ):\n",
    "        stavropol.append(name.upper())\n",
    "#         print(name.upper())"
   ]
  },
  {
   "cell_type": "code",
   "execution_count": 27,
   "metadata": {},
   "outputs": [],
   "source": [
    "chuvash = []\n",
    "for name in df['birth_place'].dropna().unique():\n",
    "    name = name.lower()\n",
    "    if (\n",
    "        ('чуваш' in name)|('чебоксар' in name)|('новочебоксарск' in name)|('канаш' in name)|('алатырь' in name)\n",
    "    ):\n",
    "        chuvash.append(name.upper())\n",
    "#         print(name.upper())"
   ]
  },
  {
   "cell_type": "code",
   "execution_count": 30,
   "metadata": {},
   "outputs": [],
   "source": [
    "# +++\n",
    "df['is_dagestan'] = np.where(df.birth_place.isin(dagestan), 1, 0)\n",
    "df['is_chechnya_ingush'] = np.where(df.birth_place.isin(chechnya_ingush), 1, 0)\n",
    "df['is_mosk'] = np.where(df.birth_place.isin(mosk), 1, 0)\n",
    "df['is_kalmik'] = np.where(df.birth_place.isin(kalmik), 1, 0)\n",
    "df['is_tadzhik'] = np.where(df.birth_place.isin(tadzhik), 1, 0)\n",
    "df['is_uzbek'] = np.where(df.birth_place.isin(uzbek), 1, 0)\n",
    "df['is_kazah'] = np.where(df.birth_place.isin(kazah), 1, 0)\n",
    "df['is_mosk_obl'] = np.where(df.birth_place.isin(mosk_obl), 1, 0)\n",
    "df['is_bashkir'] = np.where(df.birth_place.isin(bashkir), 1, 0)\n",
    "df['is_stavropol'] = np.where(df.birth_place.isin(stavropol), 1, 0)\n",
    "df['is_chuvash'] = np.where(df.birth_place.isin(chuvash), 1, 0)"
   ]
  }
 ],
 "metadata": {
  "kernelspec": {
   "display_name": "Python 3",
   "language": "python",
   "name": "python3"
  },
  "language_info": {
   "codemirror_mode": {
    "name": "ipython",
    "version": 3
   },
   "file_extension": ".py",
   "mimetype": "text/x-python",
   "name": "python",
   "nbconvert_exporter": "python",
   "pygments_lexer": "ipython3",
   "version": "3.6.5"
  }
 },
 "nbformat": 4,
 "nbformat_minor": 2
}
