{
 "cells": [
  {
   "cell_type": "code",
   "execution_count": null,
   "metadata": {},
   "outputs": [],
   "source": [
    "import numpy as np\n",
    "\n",
    "# EXAMPLE\n",
    "m_list = [[4, 3], [-5, 9]]\n",
    "A = np.array(m_list)\n",
    "inv_A = np.linalg.inv(A)\n",
    "\n",
    "print(inv_A)\n",
    "\n",
    "B = np.array([20, 26])\n",
    "X = np.linalg.inv(A).dot(B)\n",
    "\n",
    "print(X)\n",
    "\n",
    "# TESTING KNOWLEDGE\n",
    "# 4x + 3y + 2z = 25\n",
    "# -2x + 2y + 3z = -10\n",
    "# 3x -5y + 2z = -4\n",
    "\n",
    "_m_list = [[4,3,2],[-2,2,3],[3,-5,2]]\n",
    "_A = np.array(_m_list)\n",
    "_B = np.array([25,-10,-4])\n",
    "\n",
    "solutions = np.linalg.inv(_A).dot(_B)\n",
    "print(solutions)"
   ]
  }
 ],
 "metadata": {
  "kernelspec": {
   "display_name": "Python 3",
   "language": "python",
   "name": "python3"
  },
  "language_info": {
   "codemirror_mode": {
    "name": "ipython",
    "version": 3
   },
   "file_extension": ".py",
   "mimetype": "text/x-python",
   "name": "python",
   "nbconvert_exporter": "python",
   "pygments_lexer": "ipython3",
   "version": "3.6.10"
  }
 },
 "nbformat": 4,
 "nbformat_minor": 4
}
