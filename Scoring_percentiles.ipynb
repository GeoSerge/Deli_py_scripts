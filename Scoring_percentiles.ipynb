{
 "cells": [
  {
   "cell_type": "code",
   "execution_count": 2,
   "metadata": {},
   "outputs": [],
   "source": [
    "import pandas as pd\n",
    "import numpy as np\n",
    "import re\n",
    "import datetime as dt\n",
    "import seaborn as sns\n",
    "import matplotlib.pyplot as plt\n",
    "from scipy.stats import stats\n",
    "import sklearn\n",
    "from sklearn.preprocessing import KBinsDiscretizer"
   ]
  },
  {
   "cell_type": "code",
   "execution_count": 8,
   "metadata": {},
   "outputs": [
    {
     "name": "stdout",
     "output_type": "stream",
     "text": [
      "            user_id        login sex    birthday license_set_date  user_ext  \\\n",
      "0          19500003  79030926325   М  1987-09-19       2013-01-01      33.0   \n",
      "1          19500005  79151785151   М  1978-03-25       1999-01-01      64.0   \n",
      "2          19500006  79165352352   М  1987-05-23              NaN      68.0   \n",
      "3          19500013  79853423032   М  1982-06-28       2000-01-01      93.0   \n",
      "4          19500018  79057495722   М  1984-04-22       2003-01-01       NaN   \n",
      "...             ...          ...  ..         ...              ...       ...   \n",
      "1837982  1172750201  79211725405   М  1991-12-27       2011-01-01       NaN   \n",
      "1837983  1172750208  79051594640   Ж  1990-04-14       2014-01-01       NaN   \n",
      "1837984  1172750222  79372024021   М  1990-09-19       2010-01-01       NaN   \n",
      "1837985  1172750252  79046316317   М  1970-02-01       2003-01-01       NaN   \n",
      "1837986  1172750299  79217466114   М  1982-08-30       2003-01-01       NaN   \n",
      "\n",
      "         KBM   age   exp  \n",
      "0        1.0  32.0   7.0  \n",
      "1        0.5  42.0  21.0  \n",
      "2        0.7  32.0   NaN  \n",
      "3        1.0  37.0  20.0  \n",
      "4        NaN  36.0  17.0  \n",
      "...      ...   ...   ...  \n",
      "1837982  NaN  28.0   9.0  \n",
      "1837983  NaN  30.0   6.0  \n",
      "1837984  NaN  29.0  10.0  \n",
      "1837985  NaN  50.0  17.0  \n",
      "1837986  NaN  37.0  17.0  \n",
      "\n",
      "[1837987 rows x 9 columns]\n"
     ]
    }
   ],
   "source": [
    "# Adding KBM value to df\n",
    "users = pd.read_csv('C:/Users/sgulbin/Work/Analysis/DataQualityAnalysis/original_data/users_activated_v6.csv', low_memory = False)\n",
    "users = users[['user_id', 'login', 'sex', 'birthday', 'license_set_date']]\n",
    "kbm = pd.read_csv('C:/Users/sgulbin/Work/Scoring (Accidents)/2020-03Test_v2/KBM_data/KBM_data_4_13_2020.csv')\n",
    "kirill = pd.read_csv('C:/Users/sgulbin/Work/Scoring (Accidents)/2020-03Test_v2/november_users.csv', delimiter = ';')\n",
    "# df = pd.merge(pd.merge(kirill,users,on = 'user_id', how = 'left'), kbm, on = 'user_id', how = 'left')\n",
    "df = pd.merge(users, kbm, on = 'user_id', how = 'left')\n",
    "df['age'] = np.clip((pd.to_datetime('today')-pd.to_datetime(df.birthday, errors = 'coerce')).astype('timedelta64[Y]'),19.0,80.0)\n",
    "df['exp'] = np.clip((pd.to_datetime('today')-pd.to_datetime(df.license_set_date, errors = 'coerce')).astype('timedelta64[Y]'),1.0,62.0)\n",
    "df['sex'] = df['sex'].fillna('Unknown')\n",
    "print(df)"
   ]
  },
  {
   "cell_type": "code",
   "execution_count": 9,
   "metadata": {},
   "outputs": [],
   "source": [
    "# Generating age-exp coefficients\n",
    "K_age_exp_max = 1.2\n",
    "K_age_exp_min = 0.725\n",
    "K_intercept = -4.88430556234637\n",
    "K_f_age = 1.26397937674965\n",
    "K_f_exp = 0.0762464696907463\n",
    "f_age_exp_min = K_f_age*np.log(19)+K_f_exp*np.log(1)+K_intercept\n",
    "f_age_exp_max = K_f_age*np.log(50)+K_f_exp*np.log(20)+K_intercept\n",
    "K = K_age_exp_max-((K_f_age*np.log(19)+K_f_exp*np.log(1)+K_intercept)-f_age_exp_min)*(K_age_exp_max-K_age_exp_min)/(f_age_exp_max-f_age_exp_min)\n",
    "ages = []\n",
    "exps = []\n",
    "koefs = []\n",
    "for age in range(19,101):\n",
    "    for exp in range(1,83):\n",
    "        K = np.clip(K_age_exp_max-((K_f_age*np.log(age)+K_f_exp*np.log(exp)+K_intercept)-f_age_exp_min)*(K_age_exp_max-K_age_exp_min)/(f_age_exp_max-f_age_exp_min),K_age_exp_min,K_age_exp_max)\n",
    "        ages.append(age)\n",
    "        exps.append(exp)\n",
    "        koefs.append(K)\n",
    "age_exp_df = pd.DataFrame(data = ({'age':ages, 'exp':exps, 'K_age_exp': koefs}))\n",
    "# print(age_exp_df)"
   ]
  },
  {
   "cell_type": "code",
   "execution_count": 10,
   "metadata": {},
   "outputs": [],
   "source": [
    "# Adding coefficients to df\n",
    "df_K_sex = pd.DataFrame(data = ({'sex': ['М', 'Ж', 'Unknown'], 'K_sex': [1.0,1.10,1.0]}))\n",
    "df_K_KBM = pd.DataFrame(data = ({'KBM': [0.5,0.55,0.6,0.65,0.7,0.75,0.8,0.85,0.9,0.95,1.0,1.4,1.55,2.3,2.45,np.nan],\n",
    "                                 'K_KBM': [0.9,0.9,0.9,0.9,0.9,0.9,0.95,0.95,1.0,1.0,1.03,1.1,1.1,1.1,1.1,1.03]}))\n",
    "df = pd.merge(df, df_K_sex, how = 'left', left_on = 'sex', right_on = 'sex')\n",
    "df = pd.merge(df, df_K_KBM, how = 'left', left_on = 'KBM', right_on = 'KBM')\n",
    "df = pd.merge(df, age_exp_df, how = 'left', left_on = ['age','exp'], right_on = ['age','exp'])\n",
    "df['K_age_exp'] = np.where(df['age'].isnull(), 1.0, np.where(df['exp'].isnull(),1.0,np.where((df['age']-df['exp'])<16,1.0,df['K_age_exp'])))\n",
    "df['K_age_exp'] = df['K_age_exp'].fillna(1.0)\n",
    "df['K_KBM'] = df['K_KBM'].fillna(1.0)\n",
    "df['K_KBM_model_score'] = np.clip(df.K_sex*df.K_KBM*df.K_age_exp,0.7,1.3)"
   ]
  },
  {
   "cell_type": "code",
   "execution_count": 14,
   "metadata": {},
   "outputs": [
    {
     "name": "stderr",
     "output_type": "stream",
     "text": [
      "C:\\ProgramData\\Anaconda3\\lib\\site-packages\\sklearn\\preprocessing\\_discretization.py:197: UserWarning: Bins whose width are too small (i.e., <= 1e-8) in feature 0 are removed. Consider decreasing the number of bins.\n",
      "  'decreasing the number of bins.' % jj)\n",
      "C:\\ProgramData\\Anaconda3\\lib\\site-packages\\ipykernel_launcher.py:8: SettingWithCopyWarning: \n",
      "A value is trying to be set on a copy of a slice from a DataFrame.\n",
      "Try using .loc[row_indexer,col_indexer] = value instead\n",
      "\n",
      "See the caveats in the documentation: https://pandas.pydata.org/pandas-docs/stable/user_guide/indexing.html#returning-a-view-versus-a-copy\n",
      "  \n"
     ]
    }
   ],
   "source": [
    "# Creating KBM_model_coefficient to KBM_model score mapping. Percentiles\n",
    "\n",
    "est = KBinsDiscretizer(n_bins=103, encode='ordinal', strategy='quantile')\n",
    "est.fit(df[['K_KBM_model_score']])\n",
    "Xt = est.transform(df[['K_KBM_model_score']])\n",
    "df['percentile'] = Xt\n",
    "to_kirill = df[['user_id','K_KBM_model_score', 'percentile']]\n",
    "to_kirill['percentile2'] = abs((to_kirill['percentile']-100.0)/100.0)\n",
    "to_kirill = to_kirill[['user_id', 'K_KBM_model_score', 'percentile2']]\n",
    "to_kirill.to_csv('C:/Users/sgulbin/Work/Scoring (Accidents)/2020-03Test_v2/KBM_score_to_Kirill_v5.csv')\n",
    "\n",
    "# Creating mapping\n",
    "mapping = to_kirill.groupby('percentile2').min()\n",
    "grpd_max = to_kirill.groupby('percentile2').max()\n",
    "mapping['max'] = grpd_max.K_KBM_model_score\n",
    "mapping = mapping[['K_KBM_model_score', 'max']]\n",
    "mapping.columns = ['min', 'max']\n",
    "mapping.to_csv('C:/Users/sgulbin/Work/Scoring (Accidents)/2020-03Test_v2/FTR_score_mapping_v5.csv')"
   ]
  },
  {
   "cell_type": "code",
   "execution_count": 18,
   "metadata": {},
   "outputs": [
    {
     "data": {
      "text/plain": [
       "<matplotlib.axes._subplots.AxesSubplot at 0x2e000419e48>"
      ]
     },
     "execution_count": 18,
     "metadata": {},
     "output_type": "execute_result"
    },
    {
     "data": {
      "image/png": "[encoded data removed]",
      "text/plain": [
       "<Figure size 432x288 with 1 Axes>"
      ]
     },
     "metadata": {
      "needs_background": "light"
     },
     "output_type": "display_data"
    }
   ],
   "source": [
    "# Plotting score distribution\n",
    "df['score'] = (df.K_KBM_model_score-df.K_KBM_model_score.max())/(df.K_KBM_model_score.min()-df.K_KBM_model_score.max())\n",
    "sns.distplot(df.score)"
   ]
  }
 ],
 "metadata": {
  "kernelspec": {
   "display_name": "Python 3",
   "language": "python",
   "name": "python3"
  },
  "language_info": {
   "codemirror_mode": {
    "name": "ipython",
    "version": 3
   },
   "file_extension": ".py",
   "mimetype": "text/x-python",
   "name": "python",
   "nbconvert_exporter": "python",
   "pygments_lexer": "ipython3",
   "version": "3.6.10"
  }
 },
 "nbformat": 4,
 "nbformat_minor": 2
}
