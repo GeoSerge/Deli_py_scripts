{
 "cells": [
  {
   "cell_type": "code",
   "execution_count": 2,
   "metadata": {},
   "outputs": [],
   "source": [
    "import pandas as pd\n",
    "import numpy as np\n",
    "import datetime"
   ]
  },
  {
   "cell_type": "code",
   "execution_count": 9,
   "metadata": {},
   "outputs": [],
   "source": [
    "df = pd.read_excel('C:/Users/sgulbin/Work/_Выгрузки_и_Расчеты/accidents_4_10_2020.xlsx')\n",
    "df['Дата и время ДТП'] = np.where(\n",
    "    df['Дата и время ДТП']=='4/18/2020 12:00:00 AM', '3/18/2020 12:00:00 AM', df['Дата и время ДТП']\n",
    ")\n",
    "df['Дата и время ДТП'] = np.where(\n",
    "    df['Дата и время ДТП']=='4/20/2020 12:00:00 AM', '3/20/2020 12:00:00 AM', df['Дата и время ДТП']\n",
    ")\n",
    "df['Дата и время ДТП'] = np.where(\n",
    "    df['Дата и время ДТП']=='5/24/2020 12:00:00 AM', '3/24/2020 12:00:00 AM', df['Дата и время ДТП']\n",
    ")\n",
    "df['Дата и время ДТП'] = np.where(\n",
    "    df['Дата и время ДТП']=='7/23/2020 12:00:00 AM', '3/23/2020 12:00:00 AM', df['Дата и время ДТП']\n",
    ")\n",
    "df['Дата и время ДТП'] = pd.to_datetime(df['Дата и время ДТП'], dayfirst=False, errors = 'coerce')\n",
    "df.sort_values('Дата и время ДТП', inplace=True)\n",
    "df['Дата и время ДТП'] = df['Дата и время ДТП'].dt.date\n",
    "df = df[df['Телефон водителя'].notnull()]\n",
    "df['Телефон водителя'] = df['Телефон водителя'].apply(int)\n",
    "df = df[df['ТС'].notnull()]\n",
    "df.reset_index(drop=True, inplace = True)\n",
    "df['ТС'] = df['ТС'].str.replace(' ', '')\n",
    "df = df[['Дата и время ДТП', 'Регион','Телефон водителя', 'Виновность', 'ТС', 'Модель автомобиля', 'POOL', 'Тариф','Ремонт не производился','Тип ДТП', 'Вид страхования', 'Пострадавшие','Сумма по заказ-наряду','Выставлено', 'Страховая компания сумма выплаченная']].rename(columns={\n",
    "    'Дата и время ДТП': 'dt',\n",
    "    'Регион': 'region',\n",
    "    'Телефон водителя': 'phone',\n",
    "    'Виновность': 'Responsibility',\n",
    "    'ТС': 'license_plate',\n",
    "    'Модель автомобиля': 'vehicle_model',\n",
    "    'POOL': 'pool',\n",
    "    'Тариф': 'tariff',\n",
    "    'Ремонт не производился': 'no repair conducted',\n",
    "    'тип ДТП': 'accident type',\n",
    "    'Вид страхования': 'insurance type',\n",
    "    'Пострадавшие': 'injured',\n",
    "    'Сумма по заказ-наряду': 'target_amount',\n",
    "    'Выставлено': 'Vystavleno',\n",
    "    'Страховая компания сумма выплаченная': 'insurance paid sum'\n",
    "})"
   ]
  },
  {
   "cell_type": "code",
   "execution_count": 10,
   "metadata": {},
   "outputs": [],
   "source": [
    "df.to_csv('C:/Users/sgulbin/Work/_Выгрузки_и_Расчеты/accidents_4_6_2020_v2.csv')"
   ]
  }
 ],
 "metadata": {
  "kernelspec": {
   "display_name": "Python 3",
   "language": "python",
   "name": "python3"
  },
  "language_info": {
   "codemirror_mode": {
    "name": "ipython",
    "version": 3
   },
   "file_extension": ".py",
   "mimetype": "text/x-python",
   "name": "python",
   "nbconvert_exporter": "python",
   "pygments_lexer": "ipython3",
   "version": "3.6.5"
  }
 },
 "nbformat": 4,
 "nbformat_minor": 2
}
