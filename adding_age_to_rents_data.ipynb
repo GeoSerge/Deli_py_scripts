{
 "cells": [
  {
   "cell_type": "code",
   "execution_count": 11,
   "metadata": {},
   "outputs": [
    {
     "name": "stdout",
     "output_type": "stream",
     "text": [
      "80.0\n",
      "19.0\n",
      "             rent_id    rent_ext                Start                  End  \\\n",
      "51       910525795.0  60679002.0  2020-07-15 23:43:25  2020-07-15 23:49:01   \n",
      "83       910525714.0  60678773.0  2020-07-15 23:37:19  2020-07-15 23:42:55   \n",
      "98       910525683.0  60678685.0  2020-07-15 23:35:26  2020-07-15 23:35:44   \n",
      "111      910525661.0  60678622.0  2020-07-15 23:33:36  2020-07-15 23:42:11   \n",
      "113      910525656.0  60678602.0  2020-07-15 23:33:00  2020-07-15 23:33:22   \n",
      "...              ...         ...                  ...                  ...   \n",
      "2719035  847762202.0  57977693.0  2020-06-09 17:23:43  2020-06-09 18:45:37   \n",
      "2721200  847760037.0  57971211.0  2020-06-09 15:45:13  2020-06-09 18:44:52   \n",
      "2728817  847752420.0  57948441.0  2020-06-09 08:10:29  2020-06-09 09:36:06   \n",
      "2730429  847750808.0  57943589.0  2020-06-09 06:00:36  2020-06-09 07:01:23   \n",
      "2733095  844751471.0  57924779.0  2020-06-07 15:00:07  2020-06-11 09:51:28   \n",
      "\n",
      "        is_completed     cost  bill_amount  bonus_amount bill_status  \\\n",
      "51              True    51.07        51.07           0.0     success   \n",
      "83              True     0.00         0.00           0.0         NaN   \n",
      "98              True     0.00         0.00           0.0         NaN   \n",
      "111             True     0.00         0.00           0.0         NaN   \n",
      "113             True     0.00         0.00           0.0         NaN   \n",
      "...              ...      ...          ...           ...         ...   \n",
      "2719035         True   591.72       591.72           0.0     success   \n",
      "2721200         True  1228.15      1228.15           0.0     success   \n",
      "2728817         True   396.50       396.50           0.0     success   \n",
      "2730429         True   305.54       305.54           0.0     success   \n",
      "2733095         True  1501.90      1501.90           0.0     success   \n",
      "\n",
      "         bill_waiting  ...  dt_rent_id time_stamp accident_id guilty  \\\n",
      "51                NaN  ...         NaN        NaN         NaN    NaN   \n",
      "83                NaN  ...         NaN        NaN         NaN    NaN   \n",
      "98                NaN  ...         NaN        NaN         NaN    NaN   \n",
      "111               NaN  ...         NaN        NaN         NaN    NaN   \n",
      "113               NaN  ...         NaN        NaN         NaN    NaN   \n",
      "...               ...  ...         ...        ...         ...    ...   \n",
      "2719035           NaN  ...         NaN        NaN         NaN    NaN   \n",
      "2721200           NaN  ...         NaN        NaN         NaN    NaN   \n",
      "2728817           NaN  ...         NaN        NaN         NaN    NaN   \n",
      "2730429           NaN  ...         NaN        NaN         NaN    NaN   \n",
      "2733095           NaN  ...         NaN        NaN         NaN    NaN   \n",
      "\n",
      "        order_sum commentary  accident_type  lawyer_comment birthday  \\\n",
      "51            NaN        NaN            NaN             NaN      NaN   \n",
      "83            NaN        NaN            NaN             NaN      NaN   \n",
      "98            NaN        NaN            NaN             NaN      NaN   \n",
      "111           NaN        NaN            NaN             NaN      NaN   \n",
      "113           NaN        NaN            NaN             NaN      NaN   \n",
      "...           ...        ...            ...             ...      ...   \n",
      "2719035       NaN        NaN            NaN             NaN      NaN   \n",
      "2721200       NaN        NaN            NaN             NaN      NaN   \n",
      "2728817       NaN        NaN            NaN             NaN      NaN   \n",
      "2730429       NaN        NaN            NaN             NaN      NaN   \n",
      "2733095       NaN        NaN            NaN             NaN      NaN   \n",
      "\n",
      "        age_in_years  \n",
      "51               NaN  \n",
      "83               NaN  \n",
      "98               NaN  \n",
      "111              NaN  \n",
      "113              NaN  \n",
      "...              ...  \n",
      "2719035          NaN  \n",
      "2721200          NaN  \n",
      "2728817          NaN  \n",
      "2730429          NaN  \n",
      "2733095          NaN  \n",
      "\n",
      "[3362 rows x 60 columns]\n"
     ]
    }
   ],
   "source": [
    "import pandas as pd\n",
    "import numpy as np\n",
    "\n",
    "acc = pd.read_csv('C:/Users/sgulbin/Work/Analysis/PowerBI/acc_freq_by_pricing_coef_v2.csv', low_memory = False)\n",
    "usrs = pd.read_csv('C:/Users/sgulbin/Work/Analysis/DataQualityAnalysis/original_data/users_activated_v8.csv', low_memory = False)\n",
    "bd = usrs[['user_id','login', 'birthday']]\n",
    "acc = pd.merge(acc,bd, on = 'user_id', how = 'left')\n",
    "# acc['birthday'] = pd.to_datetime(acc['birthday'])\n",
    "acc['age_in_years'] = np.clip((pd.to_datetime(acc['End'], errors = 'coerce')-pd.to_datetime(acc['birthday'], errors = 'coerce'\\\n",
    "                                                                                        )).astype('timedelta64[Y]'),19.0,80.0)\n",
    "\n",
    "# testing the output\n",
    "test = acc.loc[(pd.isnull(acc.user_id) == False)&(pd.isnull(acc.birthday) == True)]\n",
    "print(acc.age_in_years.max())\n",
    "print(acc.age_in_years.min())\n",
    "print(test)"
   ]
  },
  {
   "cell_type": "code",
   "execution_count": 14,
   "metadata": {},
   "outputs": [
    {
     "data": {
      "text/plain": [
       "Index(['user_id', 'user_ext', 'login', 'sumsub_applicant_id', 'NameRu',\n",
       "       'activation_dtime', 'registration_dtime', 'License', 'license_set_date',\n",
       "       'LicenseStartDate', 'psp_issue_date', 'first_name', 'patronymic_name',\n",
       "       'last_name', 'sex', 'birth_place', 'birthday', 'PassportRegistration',\n",
       "       'IsForeigner', 'PassportNumber', 'PassportDepartmentCode',\n",
       "       'PassportDepartment', 'passport', 'drivers', 'selfie', 'pd_rus',\n",
       "       'dc_pattern_rus', 'pn_pattern_rus', 'rus_ctzn', 'new_users'],\n",
       "      dtype='object')"
      ]
     },
     "execution_count": 14,
     "metadata": {},
     "output_type": "execute_result"
    }
   ],
   "source": [
    "usrs.columns"
   ]
  }
 ],
 "metadata": {
  "kernelspec": {
   "display_name": "Python 3",
   "language": "python",
   "name": "python3"
  },
  "language_info": {
   "codemirror_mode": {
    "name": "ipython",
    "version": 3
   },
   "file_extension": ".py",
   "mimetype": "text/x-python",
   "name": "python",
   "nbconvert_exporter": "python",
   "pygments_lexer": "ipython3",
   "version": "3.6.10"
  }
 },
 "nbformat": 4,
 "nbformat_minor": 4
}
