{
 "cells": [
  {
   "cell_type": "markdown",
   "metadata": {},
   "source": [
    "# User's Creditworthiness Model"
   ]
  },
  {
   "cell_type": "code",
   "execution_count": 2,
   "metadata": {},
   "outputs": [],
   "source": [
    "import pandas as pd\n",
    "import numpy as np\n",
    "from sklearn.linear_model import LinearRegression\n",
    "from sklearn.linear_model import LogisticRegression\n",
    "from sklearn.ensemble import RandomForestClassifier\n",
    "from sklearn.ensemble import GradientBoostingClassifier\n",
    "from sklearn.metrics import roc_auc_score\n",
    "from sklearn.metrics import mean_squared_error\n",
    "from sklearn.metrics import mean_absolute_error\n",
    "from sklearn.metrics import classification_report, confusion_matrix\n",
    "from sklearn.compose import make_column_transformer\n",
    "from sklearn import preprocessing\n",
    "from sklearn.preprocessing import OneHotEncoder\n",
    "from sklearn.preprocessing import StandardScaler\n",
    "from sklearn.pipeline import make_pipeline\n",
    "from sklearn.model_selection import cross_val_score\n",
    "from sklearn.model_selection import train_test_split\n",
    "from sklearn.model_selection import GridSearchCV\n",
    "import matplotlib.pyplot as plt\n",
    "import statsmodels.api as sm\n",
    "import seaborn as sn\n",
    "from keras.models import Sequential\n",
    "from keras.layers import Dense"
   ]
  },
  {
   "cell_type": "markdown",
   "metadata": {},
   "source": [
    "### Preparing Data"
   ]
  },
  {
   "cell_type": "code",
   "execution_count": 3,
   "metadata": {},
   "outputs": [],
   "source": [
    "# OPENING RAW DATAFRAME\n",
    "df = pd.read_csv('C:/Users/sgulbin/Work/Analysis/Платежеспособность/v4_/raw_data.csv')\n",
    "\n",
    "# CLEANING AGE AND EXP VALUES\n",
    "df['age'] = np.where(((df.age < 18)|(df.age>65)),np.nan,df.age)\n",
    "df['exp'] = np.where(((df.exp < 0)|(df.exp>47)),np.nan,df.exp)\n",
    "df = df.dropna(axis = 'rows', subset = ['age','exp'])\n",
    "\n",
    "# REMOVING NOT APPLICABLE DATA\n",
    "df = df[df.invoice_status != 'not applicable']\n",
    "# CODING TARGET VALUES WITH 0 OR 1\n",
    "df['target'] = np.where(df.invoice_status == 'not_paid', 1, 0)"
   ]
  },
  {
   "cell_type": "markdown",
   "metadata": {},
   "source": [
    "### Preparing and Organizing Categorical Dataframes"
   ]
  },
  {
   "cell_type": "code",
   "execution_count": 4,
   "metadata": {},
   "outputs": [],
   "source": [
    "# PREPARING DEVICES DATAFRAME\n",
    "devices_lib = pd.read_csv('C:/Users/sgulbin/Work/Analysis/Платежеспособность/data_lib/devices_lib.csv')"
   ]
  },
  {
   "cell_type": "code",
   "execution_count": 5,
   "metadata": {},
   "outputs": [],
   "source": [
    "# PREPARING KBM DATAFRAME\n",
    "df['kbm_grouped'] = np.where(df['kbm']<0.7,'0.5+',\\\n",
    "                              np.where(df['kbm']<0.8,'0.7+',\\\n",
    "                                       np.where(df['kbm']<0.9,'0.8+',\\\n",
    "                                                np.where(df['kbm']<1,'0.9+',\\\n",
    "                                                         np.where(df['kbm'] == 1, '1',\\\n",
    "                                                                  np.where(df['kbm']<2.3,'1.4+',\\\n",
    "                                                                           np.where(df['kbm']>=2.3,'2.3+','?')))))))\n",
    "df = df.replace('?', np.NaN)"
   ]
  },
  {
   "cell_type": "code",
   "execution_count": 6,
   "metadata": {},
   "outputs": [],
   "source": [
    "# PREPARING BIRTH PLACE REGION DATAFRAME\n",
    "bp = pd.read_csv('C:/Users/sgulbin/Work/Analysis/Платежеспособность/data_lib/birthplaces_lib.csv')\n",
    "bp = bp[['PassportBirthPlace','country','region']]\n",
    "bp = bp.replace('None', np.nan)\n",
    "bp = bp.dropna(axis='rows')\n",
    "bp = bp.drop_duplicates(subset = ['PassportBirthPlace'])\n",
    "\n",
    "# BIRTH PLACES LIB\n",
    "bp_clsfied = pd.read_csv('C:/Users/sgulbin/Work/Analysis/Платежеспособность/data_lib/birthplaces_classified_lib.csv')\n",
    "\n",
    "# COUNTRIES\n",
    "countries = bp_clsfied.drop_duplicates(subset = 'bp_country')\n",
    "countries = pd.concat([countries.iloc[1:2],countries.iloc[3:]], axis='rows')\n",
    "countries = countries[['bp_country', 'bp_region_group_detailed']]\n",
    "\n",
    "# MERGING\n",
    "bp = pd.merge(bp, bp_clsfied, left_on = 'region', right_on = 'bp_region_group_detailed', how = 'left')\n",
    "bp = pd.merge(bp, countries, left_on = 'country', right_on = 'bp_country', how = 'left')\n",
    "\n",
    "bp['bp_region_group_detailed'] = np.where(pd.isnull(bp.bp_region_group_detailed_x) == True,bp.bp_region_group_detailed_y,\\\n",
    "                                            bp.bp_region_group_detailed_x)\n",
    "bp = bp[['PassportBirthPlace', 'bp_region_group_detailed']]"
   ]
  },
  {
   "cell_type": "code",
   "execution_count": 7,
   "metadata": {},
   "outputs": [],
   "source": [
    "# PREPARING MOBILE OPERATORS DATAFRAME\n",
    "mob = pd.read_csv('C:/Users/sgulbin/Work/Analysis/Платежеспособность/data_lib/mobile_codes_lib.csv')"
   ]
  },
  {
   "cell_type": "code",
   "execution_count": 8,
   "metadata": {},
   "outputs": [],
   "source": [
    "# PREPARING LICENSE CATEGORY DATAFRAME\n",
    "lcns = pd.read_csv('C:/Users/sgulbin/Work/Analysis/Платежеспособность/data_lib/license_cat_lib.csv')"
   ]
  },
  {
   "cell_type": "markdown",
   "metadata": {},
   "source": [
    "### ENRICHING ORIGINAL DATAFRAME WITH CLASSIFIED CATEGORICAL DATA"
   ]
  },
  {
   "cell_type": "code",
   "execution_count": 9,
   "metadata": {},
   "outputs": [
    {
     "name": "stdout",
     "output_type": "stream",
     "text": [
      "<class 'pandas.core.frame.DataFrame'>\n",
      "Int64Index: 16554 entries, 0 to 16553\n",
      "Data columns (total 41 columns):\n",
      " #   Column                         Non-Null Count  Dtype  \n",
      "---  ------                         --------------  -----  \n",
      " 0   user_id                        16554 non-null  int64  \n",
      " 1   login                          16554 non-null  int64  \n",
      " 2   age                            16554 non-null  float64\n",
      " 3   exp                            16554 non-null  float64\n",
      " 4   birth_place                    12469 non-null  object \n",
      " 5   kbm                            13075 non-null  float64\n",
      " 6   sex                            16554 non-null  object \n",
      " 7   device_type                    14254 non-null  object \n",
      " 8   region_name_en                 16554 non-null  object \n",
      " 9   mobile_code                    16554 non-null  int64  \n",
      " 10  license_category               12381 non-null  object \n",
      " 11  PassportDepartmentCode         5635 non-null   object \n",
      " 12  PassportRegistration           5830 non-null   object \n",
      " 13  first_name                     16549 non-null  object \n",
      " 14  patronymic_name                16068 non-null  object \n",
      " 15  last_name                      16552 non-null  object \n",
      " 16  user_id.1                      16554 non-null  int64  \n",
      " 17  invoice_creation_dt            16554 non-null  object \n",
      " 18  invoice_close_dt               16554 non-null  object \n",
      " 19  error_amount                   16554 non-null  float64\n",
      " 20  waiting_amount                 16554 non-null  float64\n",
      " 21  success_amount                 16554 non-null  float64\n",
      " 22  invoice_status                 16554 non-null  object \n",
      " 23  invoice_status_detailed        16554 non-null  object \n",
      " 24  invoice_life_length            16554 non-null  float64\n",
      " 25  invoice_start_to_current_date  16554 non-null  float64\n",
      " 26  ride_time_agg                  14524 non-null  float64\n",
      " 27  threshold_timestamp            16554 non-null  object \n",
      " 28  last_5h_end_rank               16554 non-null  int64  \n",
      " 29  target                         16554 non-null  int32  \n",
      " 30  kbm_grouped                    13075 non-null  object \n",
      " 31  device                         14202 non-null  object \n",
      " 32  device_standardized            14202 non-null  object \n",
      " 33  brand                          14202 non-null  object \n",
      " 34  device_gen                     14202 non-null  object \n",
      " 35  device_release_year            8068 non-null   float64\n",
      " 36  device_feature                 7399 non-null   object \n",
      " 37  PassportBirthPlace             9306 non-null   object \n",
      " 38  bp_region_group_detailed       8630 non-null   object \n",
      " 39  mobile_operator                16542 non-null  object \n",
      " 40  license_category_grouped       8139 non-null   object \n",
      "dtypes: float64(10), int32(1), int64(5), object(25)\n",
      "memory usage: 5.2+ MB\n"
     ]
    }
   ],
   "source": [
    "# DATA ENRICHMENT\n",
    "df = pd.merge(df, devices_lib, left_on = 'device_type', right_on = 'device', how = 'left')\n",
    "df = pd.merge(df, bp, left_on = 'birth_place', right_on = 'PassportBirthPlace', how = 'left')\n",
    "df = pd.merge(df, mob, on = 'mobile_code', how = 'left')\n",
    "df = pd.merge(df, lcns, on = 'license_category', how = 'left')\n",
    "df.info()"
   ]
  },
  {
   "cell_type": "code",
   "execution_count": 10,
   "metadata": {},
   "outputs": [
    {
     "name": "stdout",
     "output_type": "stream",
     "text": [
      "<class 'pandas.core.frame.DataFrame'>\n",
      "Int64Index: 16554 entries, 0 to 16553\n",
      "Data columns (total 43 columns):\n",
      " #   Column                         Non-Null Count  Dtype  \n",
      "---  ------                         --------------  -----  \n",
      " 0   user_id                        16554 non-null  int64  \n",
      " 1   login                          16554 non-null  int64  \n",
      " 2   age                            16554 non-null  float64\n",
      " 3   exp                            16554 non-null  float64\n",
      " 4   birth_place                    12469 non-null  object \n",
      " 5   kbm                            13075 non-null  float64\n",
      " 6   sex                            16554 non-null  object \n",
      " 7   device_type                    14254 non-null  object \n",
      " 8   region_name_en                 16554 non-null  object \n",
      " 9   mobile_code                    16554 non-null  int64  \n",
      " 10  license_category               12381 non-null  object \n",
      " 11  PassportDepartmentCode         5635 non-null   object \n",
      " 12  PassportRegistration           5830 non-null   object \n",
      " 13  first_name                     16549 non-null  object \n",
      " 14  patronymic_name                16068 non-null  object \n",
      " 15  last_name                      16552 non-null  object \n",
      " 16  user_id.1                      16554 non-null  int64  \n",
      " 17  invoice_creation_dt            16554 non-null  object \n",
      " 18  invoice_close_dt               16554 non-null  object \n",
      " 19  error_amount                   16554 non-null  float64\n",
      " 20  waiting_amount                 16554 non-null  float64\n",
      " 21  success_amount                 16554 non-null  float64\n",
      " 22  invoice_status                 16554 non-null  object \n",
      " 23  invoice_status_detailed        16554 non-null  object \n",
      " 24  invoice_life_length            16554 non-null  float64\n",
      " 25  invoice_start_to_current_date  16554 non-null  float64\n",
      " 26  ride_time_agg                  14524 non-null  float64\n",
      " 27  threshold_timestamp            16554 non-null  object \n",
      " 28  last_5h_end_rank               16554 non-null  int64  \n",
      " 29  target                         16554 non-null  int32  \n",
      " 30  kbm_grouped                    13075 non-null  object \n",
      " 31  device                         14202 non-null  object \n",
      " 32  device_standardized            14202 non-null  object \n",
      " 33  brand                          14202 non-null  object \n",
      " 34  device_gen                     14202 non-null  object \n",
      " 35  device_release_year            8068 non-null   float64\n",
      " 36  device_feature                 7399 non-null   object \n",
      " 37  PassportBirthPlace             9306 non-null   object \n",
      " 38  bp_region_group_detailed       8630 non-null   object \n",
      " 39  mobile_operator                16542 non-null  object \n",
      " 40  license_category_grouped       8139 non-null   object \n",
      " 41  thld_year                      16554 non-null  int64  \n",
      " 42  device_age_at_thld_date        16554 non-null  object \n",
      "dtypes: float64(10), int32(1), int64(6), object(26)\n",
      "memory usage: 5.5+ MB\n"
     ]
    }
   ],
   "source": [
    "# CALCULATING AGE OF DEVICE MODEL ON THE USER'S ACTIVATION DATE\n",
    "df['thld_year'] = pd.DatetimeIndex(df.threshold_timestamp).year\n",
    "df['device_age_at_thld_date']  = df.thld_year-df.device_release_year\n",
    "df.device_age_at_thld_date = df.device_age_at_thld_date.astype('str')\n",
    "df.info()"
   ]
  },
  {
   "cell_type": "markdown",
   "metadata": {},
   "source": [
    "### TESTING LOGISTIC REGRESSION ON REG DATA"
   ]
  },
  {
   "cell_type": "markdown",
   "metadata": {},
   "source": [
    "### Testing Neural Network Performance"
   ]
  },
  {
   "cell_type": "code",
   "execution_count": 17,
   "metadata": {},
   "outputs": [
    {
     "name": "stdout",
     "output_type": "stream",
     "text": [
      "Epoch 1/5\n",
      "11091/11091 [==============================] - 7s 641us/step - loss: 0.6772\n",
      "Epoch 2/5\n",
      "11091/11091 [==============================] - 8s 685us/step - loss: 0.6680\n",
      "Epoch 3/5\n",
      "11091/11091 [==============================] - 8s 721us/step - loss: 0.6767\n",
      "Epoch 4/5\n",
      "11091/11091 [==============================] - 8s 739us/step - loss: 0.6948\n",
      "Epoch 5/5\n",
      "11091/11091 [==============================] - 8s 756us/step - loss: 0.6935\n",
      "0.6042265802124374\n"
     ]
    }
   ],
   "source": [
    "# LEAVING ONLY COLUMNS THAT'LL BE USED FOR THE MODEL\n",
    "features = ['mobile_operator', 'sex', 'age', 'exp', 'bp_region_group_detailed', 'kbm_grouped', 'brand',\\\n",
    "            'device_age_at_thld_date', 'device_feature', 'region_name_en', 'license_category_grouped']\n",
    "target = ['target']\n",
    "df = df[features+target]\n",
    "\n",
    "# REPLACING NA VALUES WITH 'NaN'\n",
    "df = df.replace('nan', np.nan)\n",
    "for feature in ['mobile_operator', 'sex', 'bp_region_group_detailed', 'kbm_grouped', 'brand','device_age_at_thld_date',\\\n",
    "                'device_feature', 'region_name_en', 'license_category_grouped']:\n",
    "    df[feature] = df[feature].fillna('NaN')\n",
    "    \n",
    "# SPLITTING DATASET INTO X AND y\n",
    "df = df.reset_index(drop=True)\n",
    "X = df.iloc[:,:-1]\n",
    "y = df.iloc[:,-1:]\n",
    "\n",
    "# ONE-HOT ENCODING\n",
    "enc = preprocessing.OneHotEncoder()\n",
    "X_obj = X.loc[:, X.dtypes == object]\n",
    "X_flt = X.loc[:, X.dtypes == float]\n",
    "enc.fit(X_obj)\n",
    "X = pd.DataFrame(enc.transform(X_obj).toarray())\n",
    "X = X.join(X_flt)\n",
    "\n",
    "# SPLITTING X AND y TO TRAIN AND TEST SAMPLES\n",
    "X_train, X_test, y_train, y_test = train_test_split(X, y, test_size=0.33)\n",
    "\n",
    "# CONVERTING X AND y DATAFRAMES TO ARRAYS\n",
    "# X_train = X_train.values\n",
    "# X_test = X_test.values\n",
    "# y_train = y_train.values\n",
    "# y_test = y_test.values\n",
    "\n",
    "# NN\n",
    "classifier = Sequential()\n",
    "classifier.add(Dense(units = 64, activation = 'relu', input_dim = 159))\n",
    "classifier.add(Dense(units = 32, activation = 'relu'))\n",
    "classifier.add(Dense(units = 1, activation = 'sigmoid'))\n",
    "\n",
    "classifier.compile(optimizer = 'rmsprop', loss = 'binary_crossentropy')\n",
    "classifier.fit(X_train, y_train, batch_size = 1, epochs = 5)\n",
    "\n",
    "y_pred = classifier.predict(X_test)\n",
    "\n",
    "print(roc_auc_score(y_test, y_pred))\n",
    "\n",
    "#LogisticRegression\n",
    "# logreg = LogisticRegression(solver='liblinear',class_weight='balanced',random_state=0,C=0.01).fit(X_train, y_train.ravel())\n",
    "# y_pred = logreg.predict(X_test)\n",
    "\n",
    "# y_pred_proba = logreg.predict_proba(X_test)\n",
    "# y_pred_proba1 = []\n",
    "# for i in y_pred_proba:\n",
    "#     y_pred_proba1.append(i[1])\n",
    "    \n",
    "# print(classification_report(y_test,y_pred))\n",
    "# print(roc_auc_score(y_test, y_pred_proba1))"
   ]
  }
 ],
 "metadata": {
  "kernelspec": {
   "display_name": "Python 3",
   "language": "python",
   "name": "python3"
  },
  "language_info": {
   "codemirror_mode": {
    "name": "ipython",
    "version": 3
   },
   "file_extension": ".py",
   "mimetype": "text/x-python",
   "name": "python",
   "nbconvert_exporter": "python",
   "pygments_lexer": "ipython3",
   "version": "3.7.10"
  }
 },
 "nbformat": 4,
 "nbformat_minor": 4
}
