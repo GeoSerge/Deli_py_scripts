{
 "cells": [
  {
   "cell_type": "code",
   "execution_count": 176,
   "metadata": {},
   "outputs": [],
   "source": [
    "import pandas as pd\n",
    "import numpy as np\n",
    "import seaborn as sns"
   ]
  },
  {
   "cell_type": "code",
   "execution_count": 195,
   "metadata": {},
   "outputs": [],
   "source": [
    "# Upload OSAGO data and license_plates-VIN dictionary\n",
    "fleet = pd.read_csv('C:/Users/sgulbin/Work/Data/fleet_data.csv')\n",
    "osago = pd.read_csv('\\\\\\\\delimobil.local/Delimobil/Risk/Страхование/Убыточность 2020/Ren_OSAGO_losses.csv')\n",
    "ic = pd.read_csv('\\\\\\\\delimobil.local/Delimobil/Risk/Страхование/Убыточность 2020/osago_ins_companies_vins.csv')"
   ]
  },
  {
   "cell_type": "code",
   "execution_count": 196,
   "metadata": {},
   "outputs": [],
   "source": [
    "# Replace latin characters with corresponding cyrillic\n",
    "fleet.license_plate_number = fleet.license_plate_number.str.replace('a','А')\n",
    "fleet.license_plate_number = fleet.license_plate_number.str.replace('b','В')\n",
    "fleet.license_plate_number = fleet.license_plate_number.str.replace('c','С')  \n",
    "fleet.license_plate_number = fleet.license_plate_number.str.replace('e','Е')\n",
    "fleet.license_plate_number = fleet.license_plate_number.str.replace('h','Н')\n",
    "fleet.license_plate_number = fleet.license_plate_number.str.replace('k','К') \n",
    "fleet.license_plate_number = fleet.license_plate_number.str.replace('m','М')\n",
    "fleet.license_plate_number = fleet.license_plate_number.str.replace('o','О')\n",
    "fleet.license_plate_number = fleet.license_plate_number.str.replace('p','Р')  \n",
    "fleet.license_plate_number = fleet.license_plate_number.str.replace('t','Т')\n",
    "fleet.license_plate_number = fleet.license_plate_number.str.replace('x','Х')\n",
    "fleet.license_plate_number = fleet.license_plate_number.str.replace('y','У')\n",
    "# Add insurance company to fleet\n",
    "fleet.VIN = fleet['VIN'].str.upper()\n",
    "fleet.license_plate_number = fleet.license_plate_number.str.upper()\n",
    "fleet = pd.merge(fleet, ic, on = 'VIN', how = 'left')\n",
    "fleet = fleet[['license_plate_number','VIN', 'ins_company']]"
   ]
  },
  {
   "cell_type": "code",
   "execution_count": 205,
   "metadata": {},
   "outputs": [
    {
     "name": "stdout",
     "output_type": "stream",
     "text": [
      "5334\n",
      "2218\n",
      "2347\n",
      "3313\n",
      "200018293.24\n",
      "85222.96260758415\n"
     ]
    }
   ],
   "source": [
    "# Changing date format to datetime\n",
    "osago['accident_dt'] = pd.to_datetime(osago['Дата страхового случая        '])\n",
    "osago['policy_start_dt'] = pd.to_datetime(osago['Дата начала срока страхования      '])\n",
    "osago['policy_end_dt'] = pd.to_datetime(osago['Дата окончания срока страхования      '])\n",
    "# Slicing repairs data\n",
    "dtp.license_plate = dtp.license_plate.str.upper()\n",
    "repairs = dtp.loc[(dtp['Responsibility'] == 'Виновен')&(dtp.pool == 'No')]\n",
    "# Adding insurance company to repairs data\n",
    "repairs = pd.merge(repairs, fleet, left_on = 'license_plate', right_on = 'license_plate_number', how = 'left')\n",
    "ren_repairs = repairs.loc[repairs.ins_company == 'Ренессанс']\n",
    "# Slicing osago and repairs data\n",
    "osago19 = osago.loc[(osago['accident_dt'] > '2018-12-31')&(osago.accident_dt <='2019-10-01')]\n",
    "ren_repairs19 = ren_repairs.loc[(ren_repairs['dt']> '2018-12-31')&(ren_repairs['dt']<='2019-10-01')]\n",
    "ren_repairs20 = ren_repairs.loc[(ren_repairs['dt']>'2019-12-31')&(ren_repairs['dt']<'2020-04-01')]\n",
    "# Printing stats\n",
    "print(ren_repairs19.dt.count())#/(osago19['Кол-во урегулированных убытков'].sum()+osago19['Кол-во неурегулированных убытков'].sum()))\n",
    "print(ren_repairs20.dt.count())\n",
    "print(osago19['Кол-во урегулированных убытков'].sum())\n",
    "print(osago19['Кол-во урегулированных убытков'].sum()+osago19['Кол-во неурегулированных убытков'].sum())\n",
    "print(osago19['Сумма урегулированных убытков '].sum())\n",
    "print(osago19['Сумма урегулированных убытков '].sum()/osago19['Кол-во урегулированных убытков'].sum())"
   ]
  },
  {
   "cell_type": "code",
   "execution_count": 204,
   "metadata": {},
   "outputs": [
    {
     "data": {
      "text/plain": [
       "117406541.02285713"
      ]
     },
     "execution_count": 204,
     "metadata": {},
     "output_type": "execute_result"
    }
   ],
   "source": [
    "(2218/1.61)*85222.96260"
   ]
  },
  {
   "cell_type": "code",
   "execution_count": 188,
   "metadata": {},
   "outputs": [
    {
     "data": {
      "text/plain": [
       "(0, 40000)"
      ]
     },
     "execution_count": 188,
     "metadata": {},
     "output_type": "execute_result"
    },
    {
     "data": {
      "image/png": "[encoded data removed]",
      "text/plain": [
       "<Figure size 432x288 with 1 Axes>"
      ]
     },
     "metadata": {
      "needs_background": "light"
     },
     "output_type": "display_data"
    }
   ],
   "source": [
    "# Plotting osago loss distribution and repairs'\n",
    "osagoplt = osago19.loc[osago19['Кол-во урегулированных убытков']>0]\n",
    "repairsplt = ren_repairs19.loc[pd.isnull(ren_repairs19['target_amount']) == False]\n",
    "# hist = repairsplt['target_amount'].hist(bins = 400)\n",
    "hist = osagoplt['Сумма урегулированных убытков '].hist(bins = 400)\n",
    "hist.set_xlim(0, 40000)"
   ]
  },
  {
   "cell_type": "code",
   "execution_count": 98,
   "metadata": {},
   "outputs": [
    {
     "name": "stderr",
     "output_type": "stream",
     "text": [
      "C:\\ProgramData\\Anaconda3\\lib\\site-packages\\ipykernel_launcher.py:15: SettingWithCopyWarning: \n",
      "A value is trying to be set on a copy of a slice from a DataFrame.\n",
      "Try using .loc[row_indexer,col_indexer] = value instead\n",
      "\n",
      "See the caveats in the documentation: https://pandas.pydata.org/pandas-docs/stable/user_guide/indexing.html#returning-a-view-versus-a-copy\n",
      "  from ipykernel import kernelapp as app\n"
     ]
    },
    {
     "data": {
      "text/html": [
       "<div>\n",
       "<style scoped>\n",
       "    .dataframe tbody tr th:only-of-type {\n",
       "        vertical-align: middle;\n",
       "    }\n",
       "\n",
       "    .dataframe tbody tr th {\n",
       "        vertical-align: top;\n",
       "    }\n",
       "\n",
       "    .dataframe thead th {\n",
       "        text-align: right;\n",
       "    }\n",
       "</style>\n",
       "<table border=\"1\" class=\"dataframe\">\n",
       "  <thead>\n",
       "    <tr style=\"text-align: right;\">\n",
       "      <th></th>\n",
       "      <th>vehicle_model</th>\n",
       "      <th>avg_adjusted_osago_loss</th>\n",
       "      <th>avg_repair_cost</th>\n",
       "      <th>ratio</th>\n",
       "    </tr>\n",
       "  </thead>\n",
       "  <tbody>\n",
       "    <tr>\n",
       "      <th>0</th>\n",
       "      <td>BMW 3-series</td>\n",
       "      <td>73472.371962</td>\n",
       "      <td>200620.711646</td>\n",
       "      <td>0.366225</td>\n",
       "    </tr>\n",
       "    <tr>\n",
       "      <th>2</th>\n",
       "      <td>Hyundai Solaris</td>\n",
       "      <td>83823.569374</td>\n",
       "      <td>47932.570590</td>\n",
       "      <td>1.748781</td>\n",
       "    </tr>\n",
       "    <tr>\n",
       "      <th>4</th>\n",
       "      <td>Nissan Qashqai</td>\n",
       "      <td>78833.222222</td>\n",
       "      <td>56226.956739</td>\n",
       "      <td>1.402054</td>\n",
       "    </tr>\n",
       "    <tr>\n",
       "      <th>5</th>\n",
       "      <td>Renault Kaptur</td>\n",
       "      <td>144960.644758</td>\n",
       "      <td>93899.257882</td>\n",
       "      <td>1.543789</td>\n",
       "    </tr>\n",
       "    <tr>\n",
       "      <th>7</th>\n",
       "      <td>Volkswagen Polo</td>\n",
       "      <td>81063.429991</td>\n",
       "      <td>60035.840717</td>\n",
       "      <td>1.350251</td>\n",
       "    </tr>\n",
       "  </tbody>\n",
       "</table>\n",
       "</div>"
      ],
      "text/plain": [
       "     vehicle_model  avg_adjusted_osago_loss  avg_repair_cost     ratio\n",
       "0     BMW 3-series             73472.371962    200620.711646  0.366225\n",
       "2  Hyundai Solaris             83823.569374     47932.570590  1.748781\n",
       "4   Nissan Qashqai             78833.222222     56226.956739  1.402054\n",
       "5   Renault Kaptur            144960.644758     93899.257882  1.543789\n",
       "7  Volkswagen Polo             81063.429991     60035.840717  1.350251"
      ]
     },
     "execution_count": 98,
     "metadata": {},
     "output_type": "execute_result"
    }
   ],
   "source": [
    "# Changing date format to datetime\n",
    "osago['accident_dt'] = pd.to_datetime(osago['Дата страхового случая        '])\n",
    "osago['policy_start_dt'] = pd.to_datetime(osago['Дата начала срока страхования      '])\n",
    "osago['policy_end_dt'] = pd.to_datetime(osago['Дата окончания срока страхования      '])\n",
    "# Slicing osago and repairs data\n",
    "osago19 = osago.loc[osago['accident_dt'] > '2018-12-31']\n",
    "dtp19 = dtp.loc[(dtp['dt']> '2018-12-31')&(dtp['dt']<='2019-10-01')]\n",
    "dtp19_glty = dtp19.loc[(dtp19['Responsibility'] == 'Виновен')&(dtp19.target_amount > 0)]\n",
    "# Adding license plate numbers to osago df\n",
    "fleet.VIN = fleet['VIN'].str.upper()\n",
    "fleet_mrg = fleet[['license_plate_number','VIN']]\n",
    "osago19 = pd.merge(osago19, fleet_mrg, left_on = 'VIN                 ', right_on = 'VIN', how = 'left')\n",
    "# Adding accident index\n",
    "osago19['acc_index'] = osago19['accident_dt'].astype(str)+'-'+osago19['license_plate_number'].astype(str)\n",
    "dtp19_glty['acc_index']= dtp19_glty['dt'].astype(str)+'-'+dtp19_glty['license_plate'].astype(str)\n",
    "# Calculating average loss time by vehicle model\n",
    "osago_grpd = osago19.groupby('Марка модель').sum()\n",
    "osago_grpd = osago_grpd[['Кол-во урегулированных убытков','Сумма урегулированных убытков ','Кол-во неурегулированных убытков']]\n",
    "dtp_grpd = dtp19_glty.groupby('vehicle_model').mean()\n",
    "dtp_grpd = dtp_grpd[['target_amount']]\n",
    "# Calculating average osago loss\n",
    "osago_grpd['avg_adjusted_loss'] = osago_grpd['Сумма урегулированных убытков ']/osago_grpd['Кол-во урегулированных убытков']\n",
    "osago_grpd = osago_grpd[['avg_adjusted_loss']]\n",
    "# Replacing vehicle model names in repairs with good ones from osago\n",
    "dtp_grpd.rename(index={'320i':'BMW 3-series', 'Kaptur':'Renault Kaptur', 'Polo': 'Volkswagen Polo', 'QASHQAI':'Nissan Qashqai',\\\n",
    "                       'Rio':'Kia Rio', 'Solaris':'Hyundai Solaris'},inplace=True)\n",
    "# Merging avg osago loss and repairs by vehicle model\n",
    "mrg = pd.merge(osago_grpd, dtp_grpd, left_on =osago_grpd.index , right_on = dtp_grpd.index, how = 'left')\n",
    "mrg = mrg.loc[pd.isnull(mrg.avg_adjusted_loss) == False]\n",
    "mrg.columns = ['vehicle_model', 'avg_adjusted_osago_loss','avg_repair_cost']\n",
    "mrg['ratio'] = mrg['avg_adjusted_osago_loss']/mrg['avg_repair_cost']\n",
    "mrg"
   ]
  },
  {
   "cell_type": "code",
   "execution_count": 7,
   "metadata": {},
   "outputs": [],
   "source": [
    "# Upload repairs data\n",
    "dtp = pd.read_excel('C:/Users/sgulbin/Work/_Выгрузки_и_Расчеты/accidents_4_10_2020.xlsx')\n",
    "dtp['Дата и время ДТП'] = np.where(\n",
    "    dtp['Дата и время ДТП']=='4/18/2020 12:00:00 AM', '3/18/2020 12:00:00 AM', dtp['Дата и время ДТП']\n",
    ")\n",
    "dtp['Дата и время ДТП'] = np.where(\n",
    "    dtp['Дата и время ДТП']=='4/20/2020 12:00:00 AM', '3/20/2020 12:00:00 AM', dtp['Дата и время ДТП']\n",
    ")\n",
    "dtp['Дата и время ДТП'] = np.where(\n",
    "    dtp['Дата и время ДТП']=='5/24/2020 12:00:00 AM', '3/24/2020 12:00:00 AM', dtp['Дата и время ДТП']\n",
    ")\n",
    "dtp['Дата и время ДТП'] = np.where(\n",
    "    dtp['Дата и время ДТП']=='7/23/2020 12:00:00 AM', '3/23/2020 12:00:00 AM', dtp['Дата и время ДТП']\n",
    ")\n",
    "dtp['Дата и время ДТП'] = pd.to_datetime(dtp['Дата и время ДТП'], dayfirst=False, errors = 'coerce')\n",
    "dtp.sort_values('Дата и время ДТП', inplace=True)\n",
    "dtp['Дата и время ДТП'] = pd.to_datetime(dtp['Дата и время ДТП'])\n",
    "dtp = dtp[dtp['Телефон водителя'].notnull()]\n",
    "dtp['Телефон водителя'] = dtp['Телефон водителя'].apply(int)\n",
    "dtp = dtp[dtp['ТС'].notnull()]\n",
    "dtp.reset_index(drop=True, inplace = True)\n",
    "dtp['ТС'] = dtp['ТС'].str.replace(' ', '')\n",
    "dtp = dtp[['Дата и время ДТП', 'Регион','Телефон водителя', 'Виновность', 'ТС', 'Модель автомобиля', 'POOL', 'Тариф','Ремонт не производился','Тип ДТП', 'Вид страхования', 'Пострадавшие','Сумма по заказ-наряду','Выставлено', 'Страховая компания сумма выплаченная']].rename(columns={\n",
    "    'Дата и время ДТП': 'dt',\n",
    "    'Регион': 'region',\n",
    "    'Телефон водителя': 'phone',\n",
    "    'Виновность': 'Responsibility',\n",
    "    'ТС': 'license_plate',\n",
    "    'Модель автомобиля': 'vehicle_model',\n",
    "    'POOL': 'pool',\n",
    "    'Тариф': 'tariff',\n",
    "    'Ремонт не производился': 'no repair conducted',\n",
    "    'тип ДТП': 'accident type',\n",
    "    'Вид страхования': 'insurance type',\n",
    "    'Пострадавшие': 'injured',\n",
    "    'Сумма по заказ-наряду': 'target_amount',\n",
    "    'Выставлено': 'Vystavleno',\n",
    "    'Страховая компания сумма выплаченная': 'insurance paid sum'\n",
    "})"
   ]
  }
 ],
 "metadata": {
  "kernelspec": {
   "display_name": "Python 3",
   "language": "python",
   "name": "python3"
  },
  "language_info": {
   "codemirror_mode": {
    "name": "ipython",
    "version": 3
   },
   "file_extension": ".py",
   "mimetype": "text/x-python",
   "name": "python",
   "nbconvert_exporter": "python",
   "pygments_lexer": "ipython3",
   "version": "3.6.10"
  }
 },
 "nbformat": 4,
 "nbformat_minor": 4
}
